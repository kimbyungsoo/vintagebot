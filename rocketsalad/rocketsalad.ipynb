{
 "cells": [
  {
   "cell_type": "code",
   "execution_count": 1,
   "metadata": {},
   "outputs": [],
   "source": [
    "from bs4 import BeautifulSoup\n",
    "#import urllib.request             # HTTP Request and Response\n",
    "#from urllib.parse import quote    # UTF-8 to ASCII for URL\n",
    "from urllib.parse import urlparse, parse_qs # URL Parsing\n",
    "import requests\n",
    "import re\n",
    "import json"
   ]
  },
  {
   "cell_type": "code",
   "execution_count": 2,
   "metadata": {},
   "outputs": [],
   "source": [
    "#-*- coding: utf-8 -*-\n",
    "SHOP_URL = \"http://www.rocketsalad.co.kr\""
   ]
  },
  {
   "cell_type": "code",
   "execution_count": 3,
   "metadata": {},
   "outputs": [],
   "source": [
    "headers = {\n",
    "    'User-Agent': 'Mozilla/5.0 (Windows NT 10.0; Win64; x64) AppleWebKit/537.36 (KHTML, like Gecko) Chrome/71.0.3578.98 Safari/537.36',\n",
    "}"
   ]
  },
  {
   "cell_type": "code",
   "execution_count": 4,
   "metadata": {},
   "outputs": [],
   "source": [
    "list_html = requests.get(url=SHOP_URL+'/m/main.html', headers=headers).content\n",
    "list_lxml = BeautifulSoup(list_html, 'lxml', from_encoding='utf-8')"
   ]
  },
  {
   "cell_type": "code",
   "execution_count": 15,
   "metadata": {},
   "outputs": [],
   "source": [
    "url_list = [] \n",
    "img_list = [] \n",
    "name_list = [] \n",
    "subname_list = []\n",
    "url_list += [SHOP_URL+i.get('href') for i in list_lxml.select('dd.link-view a')]\n",
    "img_list += [SHOP_URL+i.get('src') for i in list_lxml.select('img.MS_prod_mobile_image')]\n",
    "name_list += [i.find_all(text=True)[0] for i in list_lxml.select('dd.pname')]\n",
    "subname_list += [i.find_all(text=True)[0] for i in list_lxml.select('dd.psubname')]"
   ]
  },
  {
   "cell_type": "code",
   "execution_count": 16,
   "metadata": {},
   "outputs": [
    {
     "name": "stdout",
     "output_type": "stream",
     "text": [
      "120\n",
      "120\n",
      "120\n",
      "120\n"
     ]
    }
   ],
   "source": [
    "print(len(url_list))\n",
    "print(len(img_list))\n",
    "print(len(name_list))\n",
    "print(len(subname_list))"
   ]
  },
  {
   "cell_type": "code",
   "execution_count": 18,
   "metadata": {},
   "outputs": [],
   "source": [
    "if len(url_list) == len(img_list) == len(name_list) == len(subname_list):\n",
    "    for i, name in enumerate(name_list):\n",
    "        name_list[i] = name+' '+subname_list[i]"
   ]
  },
  {
   "cell_type": "code",
   "execution_count": 19,
   "metadata": {},
   "outputs": [
    {
     "name": "stdout",
     "output_type": "stream",
     "text": [
      "['50`s Canadian Army WWII Battle Dress Trouser (33,34) Era:1950`s, From: U.S.A', '90`s Tommy Hilfiger Retro Zip-up Jacket (100) Era:1990`s,From:U.S.A', \"90`s Starter 'LA Lakers Bench Coat Parka (110) Era:1990`s,From:U.S.A\", 'Adidas Heavy Down Parka (100,105) From:U.S.A', '90`s Adidas Retro Heavy Parka (105) Era:1990`s,From:U.S.A', '90`s Wool Rich Native Wool Coat (105) Era:1990`s,MADE IN U.S.A', '40`s WWII Swedish Army Military Field Wool Trouser (32) Era:1940`s,From:England', 'Carhartt Double Knee Work Trouser (32,33) From: U.S.A', '70`s Campus Field Wool Jacket (100) Era:1970`s,MADE IN TAIWAN', '70`s~80`s JC Penney Pile Lined Ranch Coat (100) Era:1970`s-80`s,MADE IN U', '70`s For Men Traditional Check Harrington Jacket (100) Era:1970`s,From:U.S.A', 'Champion Boa Fleece Bench Coat - Old Model (100) Era:Old,From:U.S.A', '90`s Adidas Heavy Storm Parka (100) Era:1990`s,From:U.S.A', '80`s U.S Army M-65 Fishtail Shell Parka - Dead Stock (100) Era:1980`s,TALON ZIP, Fro', 'Harris Tweed Zip-up Sports Jacket (100) From:England', '60`s Harris Tweed 2B Sports Jacket (100) Era:1960`s,From:England', 'Barbour Polar Quilt Jacket (100,105) MADE IN ENGLAND', 'Gloverall Duffle Coat (95,100) MADE IN ENGLAAND', 'Burberry Prorsum Single Wool Coat (105) MADE IN ENGLAND', '70`s Austrian Loden Shooting Coat (105) Era:1970`s,MADE IN AUSTRI', 'Gloverall Collection Single Over Coat (100) MADE IN ENGLAND', 'Barbour Wetherby Corduroy Jacket (105) MADE IN BULGARIA', ' Ralph Lauren 3B Corduroy Blazer Jacket (100,105) From:U.S.A', 'Ralph Lauren Corduroy Sport Blazer (105) From:U.S.A', '70`s Canadian Army Type lV Flying Trouser (30) Era:1970`s, Lightning Zip', 'Unknown Heavy Wool Work Jacket (105) - Old Model Era:Old, From:U.S.A', '70`s Unknown Corduroy Work Jacket (110) Era:1970`s, TALON ZIP, Fr', 'Harris Tweed 2B Blazer Jacket (100,105) MADE IN ENGLAND', '60`s Harris Tweed 3B Sports Jacket (100) Era:1960`s,From:England', 'Harris Tweed 3B Sports Jacket (95) MADE IN ENGLAND', 'Harris Tweed 2B Blazer Jacket (95) MADE IN ENGLAND', '60`s Harris Tweed X Dunn&Co 3B Sports Jacket (100) Era:1960`s,MADE IN ENGLAN', '80`s Wool Rich Western Yoke Down Filled Vest (110) Era:1980`s,MADE IN U.S.A', 'Northern Europe Fisherman Sweater Cardigan (100) From:England', 'Carhartt WIP Anchorage Parka (100) From:U.S.A', 'Carhartt WIP Anchorage Parka (95) From:U.S.A', 'Carhartt WIP Anchorage Parka (95) From:U.S.A', 'Barbour Liddesdale Quilting Jacket (105) MADE IN ENGLAND', '60`s Dunn & Co Traditional Check Tweed Coat (95) Era:1960`s, MADE IN ENGLA', 'Unknown European Tiger Real Fur Coat (105) From:England', 'Mad House Genuine Leather Biker Jacket (100) From:U.S.A', '70`s U.S Army M-65 Fishtail Parka (105,110) Era:1970`s,GENERAL ZIP, F', '70`s U.S Army M-65 Fishtail Parka (95) Era:1970`s,GENERAL ZIP, F', 'Northern Europe Fisherman Sweater(100) From:England', 'Burberry London Quilting Jacket (105) MADE IN ENGLAND', '90`s Adidas Retro Bench Coat Parka (100) Era:1990`s,From:U.S.A', '90`s Adidas Retro Bench Coat Parka (100) Era:1990`s,From:U.S.A', '90`s Wool Rich Native Blanket Wool Coat (105) Era:1990`s,MADE IN U.S.A', 'Wool Rich Woolen Mills Work Vest (95) From:U.S.A', '80`s Fine Winter Wear 65/35 Down Jacket (100) Era:1980`s, MADE IN U.S.A', '90`s Astormin Norman \" Hard Rock Cafe A.D  Leather Satin Jacket (105) Era:1990`s,MADE IN U.S.A', '60`s Deacon Brothers Mohair Lumberjack Jacket (105) Era:1960`s,MADE IN CANADA', 'Oriental Hand-Woven Pixie Jacket (95) MADE IN NEPAL', 'Unknown Custom Leather Biker Jacket (95,100) From:U.S.A', '80`s Canadian Eskimo Wool Parka For Women Era:1980`s, MADE IN CANAD', 'Belstaff Quilt Hunting Vest - Vintage Model (95) MADE IN ENGLAND', 'Barbour Hampton Quilting Jacket (110) MADE IN ENGLAND', 'Grenfell Tweed Harington Jacket For Women MADE IN ENGLAND', 'Unknown Traditional Duffel Coat - Vintage Model (105) Era:Unknown Vintage, From', 'Baracuta Fur Lined Traditional Coat (105) MADE IN ENGLAND', 'Cesare Fabbri Royal Navy Duffle Coat For Women MADE IN ITALY', '70`s Austrian Cashmere Loden Shooting Coat (105) Era:1970`s,MADE IN AUSTRI', 'Southern America Native Zip-up Jacket - Vintage Model (95) Era:Unknown Vintage, From', 'Austrian Open Collar Boiled Wool Jacket - Vintage Model (95) Era:Unknown Vintage,MADE', 'Prada Layered Down Filled Single Coat (105) MADE IN ITALY', '80`s Southwestern Native Blanket Gown Coat (95,100) Era:1980`s, MADE IN U.S.A', 'Tommy Hilfiger Expedition Fleece Jacket - Old Model (110) Era:Old, From:U.S.A', 'Tommy Hilfiger Flight Parka (105) From: U.S.A', '80`s Ralph Lauren Country Flight Jacket (95) Era:1980`s,From:U.S.A', '70`s Civilian Heavy Wool C.P.O Shirt (100,105) Era:1970`s, MADE IN TAIWA', 'Northern Europe Hand-Woven Nordic Sweater Cardigan (100) From:England', 'Northern Europe Hand-Woven Nordic Sweater Cardigan (100) From:England', 'Harris Tweed 2B Blazer Jacket (100) MADE IN ENGLAND', '80`s Schott 10 Button USN Pea Coat (105) Era:1980`s,MADE IN U.S.A', 'Unknown European Leopard Real Fur Coat (95) From:England', '70`s Loden Frey Alpaca Shooting Hunting Coat (100,105) Era:1970`s,MADE IN GERMAN', 'Burberry Traditional Check Balmacan Coat (100,105) MADE IN ENGLAND', '50`s U.S Army M-51 Pile Liner Jacket (105) Era:1950`s, From:U.S.A', '50`s U.S Army M-51 Pile Liner Jacket (105) Era:1950`s, From:U.S.A', '50`s U.S Army M-51 Pile Liner Jacket (95) Era:1950`s, From:U.S.A', '60`s Simpsons Zip-up Cowichan Sweater (105) Era:1960`s,MADE IN CANADA', 'North Face Hyvent Belted Parka (100) From:U.S.A', 'Italian Army Insulated Quilt Liner Jacket (100) From:U.S.A', '90`s Tommy Hilfiger Retro Heavy Parka (105) Era:1990`s, From:U.S.A', '90`s Wool Rich Native Blanket Wool Coat (100) Era:1990`s,MADE IN U.S.A', '70`s Austrian Alpaca Shooting Hunting Coat For Women Era:1970`s,MADE IN AUSTRI', '60`s Harris Tweed 3B Blazer Jacket (100) Era:1960`s,MADE IN ENGLAN', '50`s Harris Tweed 3B Blazer Jacket (95) Era:1950`s,MADE IN ENGLAN', '60`s Harris Tweed 3B Sports Belted Coat (105) Era:1960`s, MADE IN ENGLA', '30`s~40`s Harris Tweed Semi-Oversized Coat (100) Era:1930`s-40`s,MADE IN E', 'Harris Tweed 2B Blazer Jacket (105) MADE IN ENGLAND', 'Giesswein Austrian Hand-Woven Hooded Coat (100) MADE IN AUSTRIA', 'Geiger Austrian Open Collar Boiled Wool Coat (100) MADE IN AUSTRIA', 'Austrian Open Collar Boiled Wool Jacket - Vintage Model (100) Era:Unknown Vintage,MADE', 'Austrian Open Collar Boiled Wool Jacket - Vintage Model (100,105) Era:Unknown Vintage,MADE', 'Austrian Open Collar Boiled Wool Jacket - Vintage Model (105) Era:Unknown Vintage,MADE', 'Markina Virgin Wool Fisherman Sweater Cardigan (95)-Vintage Model Era:Unknown Vintage,From:', 'Geiger Austrian Open Collar Boiled Wool Jacket (110) MADE IN AUSTRIA', 'North Face Denali Polatec Fleece Jacket (105) - Old Model Era:Old,From:U.S.A', 'North Face Denali Polatec Fleece Jacket (95) - Old Model Era:Old,From:U.S.A', 'Austrian Open Collar Boiled Wool Jacket - Vintage Model (105) Era:Unknown Vintage,MADE', 'Geiger Traditional Wool Jacket (100) MADE IN AUSTRIA', 'Austrian Open Collar Boiled Wool Jacket - Vintage Model (95,100) Era:Unknown Vintage,MADE', '50`s Australia Army Battle Dress Gurka Trouser (32) Era:1950`s, From:England', '60`s~70`s Swedish Army M-59 Parka (95) Era:1960`s-70`s, From: U.', '80`s Canadian Army General Purpose Extreme Parka (100.105) Era:1980`s,From:U.S.A', 'Fred Perry Down Parka (100,105) From:England', 'Moncler Grenoble Down Parka (100) From:England', 'Austrian Open Collar Boiled Wool Jacket - Vintage Model (105) Era:Unknown Vintage,MADE', '70`s Gloverall Snowdon Corduroy Duffle Coat (105) Era:1970`s, MADE IN ENGLA', 'Fjall Raven Wool Bomber Jacket (100,105) From:England', 'Kanata Cowichan Sweater (100) MADE IN CANADA', '50`s~60`s French Civil Leather Mackinaw Coat (105) Era:1950`s-60`s,MADE IN F', 'Northern Europe Fisherman Sweater Cardigan (105) From:England', '50`s U.S Army M-51 Pile Liner Jacket (105) Era:1950`s, From:U.S.A', 'Austrian Open Collar Boiled Wool Jacket - Vintage Model (95) Era:Unknown Vintage,MADE', '40`s WWll French Civil Mackinaw Barnstormer Coat (105) Era:1940`s,MADE IN FRANCE', '70`s Tyroler Loden Traditional Loden Coat (105) Era:1970`s,MADE IN AUSTRI', 'Southern America Alpaca Wool Jacket (105) From:U.S.A', 'United Arrows 2 Way Fleece Jacket (95) From:JAPAN']\n"
     ]
    }
   ],
   "source": [
    "print(name_list)"
   ]
  },
  {
   "cell_type": "code",
   "execution_count": null,
   "metadata": {},
   "outputs": [],
   "source": []
  }
 ],
 "metadata": {
  "kernelspec": {
   "display_name": "Python 3",
   "language": "python",
   "name": "python3"
  },
  "language_info": {
   "codemirror_mode": {
    "name": "ipython",
    "version": 3
   },
   "file_extension": ".py",
   "mimetype": "text/x-python",
   "name": "python",
   "nbconvert_exporter": "python",
   "pygments_lexer": "ipython3",
   "version": "3.6.4"
  }
 },
 "nbformat": 4,
 "nbformat_minor": 2
}
