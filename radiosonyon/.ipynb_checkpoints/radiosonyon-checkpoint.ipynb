{
 "cells": [
  {
   "cell_type": "code",
   "execution_count": 1,
   "metadata": {},
   "outputs": [],
   "source": [
    "import threading, os\n",
    "from bs4 import BeautifulSoup\n",
    "#import urllib.request             # HTTP Request and Response\n",
    "#from urllib.parse import quote    # UTF-8 to ASCII for URL\n",
    "from urllib.parse import urlparse, parse_qs # URL Parsing\n",
    "import requests\n",
    "import re\n",
    "import json\n",
    "import sqlite3 as lite\n",
    "import time"
   ]
  },
  {
   "cell_type": "code",
   "execution_count": 15,
   "metadata": {},
   "outputs": [],
   "source": [
    "class AsyncRadiosonyonTask:\n",
    "\tdef __init__(self):\n",
    "\t\tself.SHOP_URL = 'http://m.radiosonyon.com/product/list.html'\n",
    "\t\tself.headers = {'User-Agent': 'Mozilla/5.0 (Windows NT 10.0; Win64; x64) AppleWebKit/537.36 (KHTML, like Gecko) Chrome/71.0.3578.98 Safari/537.36'}\n",
    "\tdef requesUrl(self, next_url, goods = []):\n",
    "\t\tnext_url = next_url\n",
    "\t\twhile(True):\n",
    "\t\t\tlist_html = requests.get(url=self.SHOP_URL+next_url, headers=self.headers).content\n",
    "\t\t\tlist_lxml = BeautifulSoup(list_html, 'lxml', from_encoding='utf-8')\n",
    "\t\t\turl_list = [self.SHOP_URL+i.get('href') for i in list_lxml.select('#contents > div.xans-element-.xans-product.xans-product-listnormal.typeThumb > ul > li > div > a')]\n",
    "\t\t\timg_list = ['http:'+i.get('src') for i in list_lxml.select('#contents > div.xans-element-.xans-product.xans-product-listnormal.typeThumb > ul > li > div > a > img')]\n",
    "\t\t\tname_list = [i.find_all(text=True)[0] for i in list_lxml.select('#contents > div.xans-element-.xans-product.xans-product-listnormal.typeThumb > ul > li > p.name')]\n",
    "\t\t\tfor i in range(len(url_list)):\n",
    "\t\t\t\tgoods.append({'url' : url_list[i], 'img' : img_list[i], 'name' : name_list[i]})\n",
    "\n",
    "\t\t\tnext_url = list_lxml.select('#contents > div.xans-element-.xans-product.xans-product-normalpaging.paginate.typeList > p.next > a')[0].get('href')\n",
    "\t\t\tif(next_url == '#none'):\n",
    "\t\t\t\tprint(len(goods))\n",
    "\t\t\t\treturn goods\n",
    "\n",
    "\n",
    "\tdef saveDB(self, goods = []):\n",
    "\t\tif len(goods) == 0:\n",
    "\t\t\tprint(\"goods is empty\")\n",
    "\t\telse:\n",
    "\t\t\tdatabase_filename = 'radiosonyon.db'\n",
    "\t\t\tconn = lite.connect(database_filename)\n",
    "\t\t\tcs = conn.cursor()\n",
    "\t\t\t#DROP\n",
    "\t\t\tquery = \"CREATE TABLE IF NOT EXISTS goods (name VARCHAR(255), url VARCHAR(255), img VARCHAR(255));\"\n",
    "\t\t\tcs.execute(query)\n",
    "\t\t\tquery = \"DROP TABLE IF EXISTS old_goods;\"\n",
    "\t\t\tcs.execute(query)\n",
    "\t\t\tquery = \"ALTER TABLE goods RENAME TO old_goods;\"\n",
    "\t\t\tcs.execute(query)\n",
    "\t\t\tquery = \"CREATE TABLE IF NOT EXISTS goods (name VARCHAR(255), url VARCHAR(255), img VARCHAR(255));\"\n",
    "\t\t\tcs.execute(query)\n",
    "\t\t\tfor good in goods:\n",
    "\t\t\t\tquery = \"INSERT into goods (name,url,img) values (?, ?, ?);\"\n",
    "\t\t\t\tcs.execute(query,(str(good['name']), str(self.SHOP_URL+good['url']),str(self.SHOP_URL+good['img'])))\n",
    "\t\t\tconn.commit()\n",
    "\t\t\tprint(\"goods is updated\")\n",
    "\t\t\tconn.close()"
   ]
  },
  {
   "cell_type": "code",
   "execution_count": 16,
   "metadata": {},
   "outputs": [
    {
     "name": "stdout",
     "output_type": "stream",
     "text": [
      "438\n",
      "1468\n",
      "2499\n",
      "3551\n",
      "3718\n",
      "4241\n",
      "4689\n",
      "goods is updated\n"
     ]
    }
   ],
   "source": [
    "BT = AsyncRadiosonyonTask()\n",
    "url_list = ['?cate_no=7'\n",
    "\t\t\t,'?cate_no=12' \n",
    "\t\t\t,'?cate_no=4'\n",
    "\t\t\t,'?cate_no=24'\n",
    "\t\t\t,'?cate_no=43'\n",
    "\t\t\t,'?cate_no=39'\n",
    "\t\t\t,'?cate_no=32'\n",
    "\t\t]\n",
    "\n",
    "goods = []\n",
    "for next_url in url_list:\n",
    "\tgoods = BT.requesUrl(next_url, goods)\n",
    "BT.saveDB(goods = goods)"
   ]
  },
  {
   "cell_type": "code",
   "execution_count": 13,
   "metadata": {},
   "outputs": [
    {
     "data": {
      "text/plain": [
       "4689"
      ]
     },
     "execution_count": 13,
     "metadata": {},
     "output_type": "execute_result"
    }
   ],
   "source": [
    "len(goods)"
   ]
  },
  {
   "cell_type": "code",
   "execution_count": null,
   "metadata": {},
   "outputs": [],
   "source": []
  }
 ],
 "metadata": {
  "kernelspec": {
   "display_name": "Python 3",
   "language": "python",
   "name": "python3"
  },
  "language_info": {
   "codemirror_mode": {
    "name": "ipython",
    "version": 3
   },
   "file_extension": ".py",
   "mimetype": "text/x-python",
   "name": "python",
   "nbconvert_exporter": "python",
   "pygments_lexer": "ipython3",
   "version": "3.6.4"
  }
 },
 "nbformat": 4,
 "nbformat_minor": 2
}
