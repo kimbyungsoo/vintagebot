{
 "cells": [
  {
   "cell_type": "code",
   "execution_count": 1,
   "metadata": {},
   "outputs": [],
   "source": [
    "from bs4 import BeautifulSoup\n",
    "#import urllib.request             # HTTP Request and Response\n",
    "#from urllib.parse import quote    # UTF-8 to ASCII for URL\n",
    "from urllib.parse import urlparse, parse_qs # URL Parsing\n",
    "import requests\n",
    "import re\n",
    "import json"
   ]
  },
  {
   "cell_type": "code",
   "execution_count": 6,
   "metadata": {},
   "outputs": [],
   "source": [
    "#-*- coding: utf-8 -*-\n",
    "SHOP_URL = \"http://m.wildhogs.co.kr\"\n",
    "headers = {'User-Agent': 'Mozilla/5.0 (Windows NT 10.0; Win64; x64) AppleWebKit/537.36 (KHTML, like Gecko) Chrome/71.0.3578.98 Safari/537.36'}\n",
    "goods = []"
   ]
  },
  {
   "cell_type": "code",
   "execution_count": 7,
   "metadata": {},
   "outputs": [],
   "source": [
    "list_html = requests.get(url=SHOP_URL, headers=headers).content\n",
    "list_lxml = BeautifulSoup(list_html, 'lxml', from_encoding='utf-8')"
   ]
  },
  {
   "cell_type": "code",
   "execution_count": 10,
   "metadata": {},
   "outputs": [],
   "source": [
    "url_list = [SHOP_URL+i.get('href') for i in list_lxml.select('ul.prdList.grid3 > li.xans-record- > div.description > strong.name  > a')]\n",
    "img_list = ['http:'+i.get('src') for i in list_lxml.select('ul.prdList.grid3 > li.xans-record- > div.thumbnail > a > img')]\n",
    "name_list = [i.find_all(text=True)[0] for i in list_lxml.select('ul.prdList.grid3 > li.xans-record- > div.description > strong.name  > a')]\n",
    "for i in range(len(name_list)):\n",
    "    goods.append({'url' : url_list[i], 'img' : img_list[i], 'name' : name_list[i]})"
   ]
  },
  {
   "cell_type": "code",
   "execution_count": 9,
   "metadata": {},
   "outputs": [
    {
     "data": {
      "text/plain": [
       "[{'img': 'http://m.wildhogs.co.kr/web/product/medium/201901/6d81991eb2d71cbab7264fdb7a3ce7b4.jpg',\n",
       "  'name': 'F.C.R.B. STAR HOOD PULLOVER HOODY(XL)',\n",
       "  'url': 'http://m.wildhogs.co.kr/product/fcrb-star-hood-pullover-hoodyxl/9459/category/1/display/3/'},\n",
       " {'img': 'http://m.wildhogs.co.kr/web/product/medium/201901/e016f9dc87431f480c7bae8ac68da9c4.jpg',\n",
       "  'name': 'patagonia das parka black(L)',\n",
       "  'url': 'http://m.wildhogs.co.kr/product/patagonia-das-parka-blackl/9458/category/1/display/3/'},\n",
       " {'img': 'http://m.wildhogs.co.kr/web/product/medium/201901/29260dcc2d8d0839cbab935a59bc70e2.jpg',\n",
       "  'name': 'beams plus grey pants',\n",
       "  'url': 'http://m.wildhogs.co.kr/product/beams-plus-grey-pants/9457/category/1/display/3/'},\n",
       " {'img': 'http://m.wildhogs.co.kr/web/product/medium/201901/a78dbf261582cbf1899549f9acf10786.jpg',\n",
       "  'name': 'kapital beach cloth hood jacket',\n",
       "  'url': 'http://m.wildhogs.co.kr/product/kapital-beach-cloth-hood-jacket/9456/category/1/display/3/'},\n",
       " {'img': 'http://m.wildhogs.co.kr/web/product/medium/201901/a8614b3212ceea29e29ce8a6613e9514.jpg',\n",
       "  'name': 'the realmccoys army chino pants',\n",
       "  'url': 'http://m.wildhogs.co.kr/product/the-realmccoys-army-chino-pants/9455/category/1/display/3/'},\n",
       " {'img': 'http://m.wildhogs.co.kr/web/product/medium/201901/39d63c5eda8f32858c06bb394a2e7538.jpg',\n",
       "  'name': 'comme des garcons homme wool jacket',\n",
       "  'url': 'http://m.wildhogs.co.kr/product/comme-des-garcons-homme-wool-jacket/9454/category/1/display/3/'},\n",
       " {'img': 'http://m.wildhogs.co.kr/web/product/medium/201901/d25abf7784eef414878b0af762b4e52f.jpg',\n",
       "  'name': 'beams inner down single coat',\n",
       "  'url': 'http://m.wildhogs.co.kr/product/beams-inner-down-single-coat/9453/category/1/display/3/'},\n",
       " {'img': 'http://m.wildhogs.co.kr/web/product/medium/201901/2c6be8d71c8c0211049833cb896e4ce0.jpg',\n",
       "  'name': 'orslow 107w non-selvage denim pants',\n",
       "  'url': 'http://m.wildhogs.co.kr/product/orslow-107w-non-selvage-denim-pants/9452/category/1/display/3/'},\n",
       " {'img': 'http://m.wildhogs.co.kr/web/product/medium/201901/2258d6b64df1ea850603c435540f7107.jpg',\n",
       "  'name': 'pendleton chimayo wool jacket',\n",
       "  'url': 'http://m.wildhogs.co.kr/product/pendleton-chimayo-wool-jacket/9451/category/1/display/3/'},\n",
       " {'img': 'http://m.wildhogs.co.kr/web/product/medium/201901/18ed1249f0e928fe16aa8f0443af2978.jpg',\n",
       "  'name': 'the north face xxx triclimate jacket',\n",
       "  'url': 'http://m.wildhogs.co.kr/product/the-north-face-xxx-triclimate-jacket/9450/category/1/display/3/'},\n",
       " {'img': 'http://m.wildhogs.co.kr/web/product/medium/201901/22b21cdf1aabc005ab2f0325a1104893.jpg',\n",
       "  'name': 'patagonia orange puff jacket (M)',\n",
       "  'url': 'http://m.wildhogs.co.kr/product/patagonia-orange-puff-jacket-m/9449/category/1/display/3/'},\n",
       " {'img': 'http://m.wildhogs.co.kr/web/product/medium/201901/92ace764f3f6d298d135aa16ccb98d40.jpg',\n",
       "  'name': 'levis lvc 50154-0076 (31)',\n",
       "  'url': 'http://m.wildhogs.co.kr/product/levis-lvc-50154-0076-31/9448/category/1/display/3/'},\n",
       " {'img': 'http://m.wildhogs.co.kr/web/product/medium/201901/83e90b5f96094ad9a320bf16ba8cf836.jpg',\n",
       "  'name': 'remi relief patchwork military inner down coat',\n",
       "  'url': 'http://m.wildhogs.co.kr/product/remi-relief-patchwork-military-inner-down-coat/9447/category/1/display/3/'},\n",
       " {'img': 'http://m.wildhogs.co.kr/web/product/medium/201901/d97221a088042839dac71b8e64badfc7.jpg',\n",
       "  'name': 'the north face MOUNTAIN VERSA MICRO JACKET',\n",
       "  'url': 'http://m.wildhogs.co.kr/product/the-north-face-mountain-versa-micro-jacket/9446/category/1/display/3/'},\n",
       " {'img': 'http://m.wildhogs.co.kr/web/product/medium/201901/19b2b6b3a55ee689d0ec6dab674015a5.jpg',\n",
       "  'name': 'levis lvc 44501-0068 (34)',\n",
       "  'url': 'http://m.wildhogs.co.kr/product/levis-lvc-44501-0068-34/9445/category/1/display/3/'},\n",
       " {'img': 'http://m.wildhogs.co.kr/web/product/medium/201901/2e9e7b968bde1aa9498329bed5ac812a.jpg',\n",
       "  'name': 'sierra designs x kaptain sunshine x beams plus down shirt jacket',\n",
       "  'url': 'http://m.wildhogs.co.kr/product/sierra-designs-x-kaptain-sunshine-x-beams-plus-down-shirt-jacket/9444/category/1/display/3/'},\n",
       " {'img': 'http://m.wildhogs.co.kr/web/product/medium/201901/04fa0209a6276b5eedab8a3e3bd971ac.jpg',\n",
       "  'name': 'nexus7vn n-3b jp-mod jacket',\n",
       "  'url': 'http://m.wildhogs.co.kr/product/nexus7vn-n-3b-jp-mod-jacket/9443/category/1/display/3/'},\n",
       " {'img': 'http://m.wildhogs.co.kr/web/product/medium/201901/e79f95476aa5c666eed1611453176f21.jpg',\n",
       "  'name': 'neighborhood suede down parka',\n",
       "  'url': 'http://m.wildhogs.co.kr/product/neighborhood-suede-down-parka/9442/category/1/display/3/'}]"
      ]
     },
     "execution_count": 9,
     "metadata": {},
     "output_type": "execute_result"
    }
   ],
   "source": [
    "goods"
   ]
  },
  {
   "cell_type": "code",
   "execution_count": 10,
   "metadata": {
    "scrolled": true
   },
   "outputs": [
    {
     "data": {
      "text/plain": [
       "['GRL MA-1 jacket',\n",
       " 'PARADIS TERRE cape',\n",
       " 'NIKO AND... padding vest',\n",
       " 'MIDIUMI SOLID fleece lining long cardigan',\n",
       " \"N'OR sweat long cardigan\"]"
      ]
     },
     "execution_count": 10,
     "metadata": {},
     "output_type": "execute_result"
    }
   ],
   "source": [
    "name_list"
   ]
  },
  {
   "cell_type": "code",
   "execution_count": 11,
   "metadata": {},
   "outputs": [
    {
     "data": {
      "text/plain": [
       "['http://stay-free.co.kr/web/product/medium/vulture85_43662.jpg',\n",
       " 'http://stay-free.co.kr/web/product/medium/vulture85_43658.jpg',\n",
       " 'http://stay-free.co.kr/web/product/medium/vulture85_43657.jpg',\n",
       " 'http://stay-free.co.kr/web/product/medium/vulture85_43654.jpg',\n",
       " 'http://stay-free.co.kr/web/product/medium/vulture85_43652.jpg']"
      ]
     },
     "execution_count": 11,
     "metadata": {},
     "output_type": "execute_result"
    }
   ],
   "source": [
    "img_list"
   ]
  },
  {
   "cell_type": "code",
   "execution_count": 12,
   "metadata": {},
   "outputs": [
    {
     "data": {
      "text/plain": [
       "['http://stay-free.co.kr/product/list.html/product/detail.html?product_no=43662&cate_no=224&display_group=1',\n",
       " 'http://stay-free.co.kr/product/list.html/product/detail.html?product_no=43658&cate_no=224&display_group=1',\n",
       " 'http://stay-free.co.kr/product/list.html/product/detail.html?product_no=43657&cate_no=224&display_group=1',\n",
       " 'http://stay-free.co.kr/product/list.html/product/detail.html?product_no=43654&cate_no=224&display_group=1',\n",
       " 'http://stay-free.co.kr/product/list.html/product/detail.html?product_no=43652&cate_no=224&display_group=1']"
      ]
     },
     "execution_count": 12,
     "metadata": {},
     "output_type": "execute_result"
    }
   ],
   "source": [
    "url_list"
   ]
  },
  {
   "cell_type": "code",
   "execution_count": 13,
   "metadata": {
    "collapsed": true
   },
   "outputs": [],
   "source": [
    "import sqlite3 as lite\n",
    "import time\n",
    "\n",
    "database_filename = 'stayfree.db'\n",
    "conn = lite.connect(database_filename)\n",
    "cs = conn.cursor()"
   ]
  },
  {
   "cell_type": "code",
   "execution_count": null,
   "metadata": {
    "collapsed": true
   },
   "outputs": [],
   "source": []
  }
 ],
 "metadata": {
  "kernelspec": {
   "display_name": "Python 3",
   "language": "python",
   "name": "python3"
  },
  "language_info": {
   "codemirror_mode": {
    "name": "ipython",
    "version": 3
   },
   "file_extension": ".py",
   "mimetype": "text/x-python",
   "name": "python",
   "nbconvert_exporter": "python",
   "pygments_lexer": "ipython3",
   "version": "3.6.4"
  }
 },
 "nbformat": 4,
 "nbformat_minor": 2
}
