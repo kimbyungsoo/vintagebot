{
 "cells": [
  {
   "cell_type": "code",
   "execution_count": 1,
   "metadata": {
    "collapsed": true
   },
   "outputs": [],
   "source": [
    "import win32gui, win32api, win32con, win32com.client\n",
    "import sys, os\n",
    "import time\n",
    "import bonovista.bonovista, augustshop.augustshop, matchmade.matchmade, previn.previn, oddpeople.oddpeople, rocketsalad.rocketsalad, stayfree.stayfree, festinalente.festinalente\n",
    "from importlib import reload\n",
    "import sqlite3 as lite\n",
    "from time import ctime"
   ]
  },
  {
   "cell_type": "code",
   "execution_count": 2,
   "metadata": {
    "collapsed": true
   },
   "outputs": [],
   "source": [
    "def window_handle_Title(Title):\n",
    "    handle = win32gui.FindWindow(None, Title)\n",
    "    return handle"
   ]
  },
  {
   "cell_type": "code",
   "execution_count": 3,
   "metadata": {
    "collapsed": true
   },
   "outputs": [],
   "source": [
    "def mouse_click(x, y):\n",
    "    win32api.SetCursorPos((x, y))\n",
    "    win32api.mouse_event(win32con.MOUSEEVENTF_LEFTDOWN, x, y, 0, 0)\n",
    "    win32api.mouse_event(win32con.MOUSEEVENTF_LEFTUP, x, y, 0, 0)"
   ]
  },
  {
   "cell_type": "code",
   "execution_count": 4,
   "metadata": {
    "collapsed": true
   },
   "outputs": [],
   "source": [
    "def sendmsg(roomname, msg):\n",
    "    hWnd = window_handle_Title(roomname)\n",
    "    win32gui.SetForegroundWindow(hWnd)\n",
    "    shell = win32com.client.Dispatch(\"WScript.Shell\")\n",
    "    shell.SendKeys('%')\n",
    "    win32gui.SetForegroundWindow(hWnd)\n",
    "    time.sleep(0.5)\n",
    "    #win32api.SetCursorPos((904,512))\n",
    "    mouse_click(3112,896)\n",
    "    time.sleep(1)\n",
    "    shell.SendKeys(msg)\n",
    "    time.sleep(1)\n",
    "    #shell.SendKeys('{ENTER}')\n",
    "    mouse_click(3155,891)\n",
    "    time.sleep(1)"
   ]
  },
  {
   "cell_type": "code",
   "execution_count": 5,
   "metadata": {
    "collapsed": true
   },
   "outputs": [],
   "source": [
    "def diff_set(filename):\n",
    "    conn = lite.connect(filename)\n",
    "    cs = conn.cursor()\n",
    "    query = \"SELECT url FROM goods WHERE img NOT IN (SELECT DISTINCT img FROM old_goods)\"\n",
    "    updated_goods = cs.execute(query).fetchall()\n",
    "    conn.close()\n",
    "    return list(updated_goods)"
   ]
  },
  {
   "cell_type": "code",
   "execution_count": 14,
   "metadata": {
    "collapsed": true
   },
   "outputs": [],
   "source": [
    "def run(room, name, url):\n",
    "    name.name.main()\n",
    "    db = './'+name+'/'+name+'.db'\n",
    "    updated_goods = diff_set(db)\n",
    "    if len(updated_goods) != 0:\n",
    "    \tmsg = name + \"products have been updated : \"+url\n",
    "    \tprint(msg)\n",
    "    \tsendmsg(room, msg = msg)"
   ]
  },
  {
   "cell_type": "code",
   "execution_count": 7,
   "metadata": {
    "collapsed": true
   },
   "outputs": [],
   "source": [
    "site_list = [\n",
    "    \t\t{'room':'heavydutyclub', 'name':'bonovista', 'url':'http://www.bonovista.com/'}\n",
    "    \t\t, {'room':'heavydutyclub', 'name':'augustshop', 'url':'http://august-shop.kr'}\n",
    "    \t\t, {'room':'테스트', 'name':'matchmade', 'url':'http://match-made.co.kr/'}\n",
    "    \t\t, {'room':'heavydutyclub', 'name':'previn', 'url':'http://www.previn.co.kr/'}\n",
    "    \t\t, {'room':'heavydutyclub', 'name':'oddpeople', 'url':'http://oddpeople.kr/'}\n",
    "    \t\t, {'room':'테스트', 'name':'rocketsalad', 'url':'http://www.rocketsalad.co.kr/'}\n",
    "    \t\t, {'room':'테스트', 'name':'stayfree', 'url':'http://stay-free.co.kr/'}\n",
    "    \t\t, {'room':'테스트', 'name':'festinalente', 'url':'http://www.festinalente.kr/'}\n",
    "    \t\t]"
   ]
  },
  {
   "cell_type": "code",
   "execution_count": 18,
   "metadata": {},
   "outputs": [
    {
     "name": "stdout",
     "output_type": "stream",
     "text": [
      "Thu Jan 24 19:08:58 2019\n",
      "Bonovista bot start\n",
      "goods is updated\n",
      "augustshop bot start\n",
      "good is updated\n",
      "Matchmade bot start\n",
      "good is updated\n",
      "Previn bot start\n",
      "goods is updated\n",
      "Oddpeople bot start\n",
      "good is updated\n",
      "Rocketsalad bot start\n",
      "goods is updated\n",
      "stayfree bot start\n",
      "good is updated\n",
      "Festinalente bot start\n",
      "good is updated\n",
      "heavydutyclub bonovista http://www.bonovista.com/\n",
      "heavydutyclub augustshop http://august-shop.kr\n",
      "테스트 matchmade http://match-made.co.kr/\n",
      "heavydutyclub previn http://www.previn.co.kr/\n",
      "heavydutyclub oddpeople http://oddpeople.kr/\n",
      "테스트 rocketsalad http://www.rocketsalad.co.kr/\n",
      "테스트 stayfree http://stay-free.co.kr/\n",
      "테스트 festinalente http://www.festinalente.kr/\n"
     ]
    }
   ],
   "source": [
    "print(ctime())\n",
    "bonovista.bonovista.main()\n",
    "augustshop.augustshop.main()\n",
    "matchmade.matchmade.main()\n",
    "previn.previn.main()\n",
    "oddpeople.oddpeople.main()\n",
    "rocketsalad.rocketsalad.main()\n",
    "stayfree.stayfree.main()\n",
    "festinalente.festinalente.main()\n",
    "\n",
    "for site in site_list:\n",
    "    #run(site['room'], site['name'], site['url'])\n",
    "    print(site['room'], site['name'], site['url'])"
   ]
  },
  {
   "cell_type": "code",
   "execution_count": 10,
   "metadata": {},
   "outputs": [
    {
     "name": "stdout",
     "output_type": "stream",
     "text": [
      "Thu Jan 24 18:51:36 2019\n"
     ]
    },
    {
     "ename": "AttributeError",
     "evalue": "'dict' object has no attribute 'room'",
     "output_type": "error",
     "traceback": [
      "\u001b[1;31m---------------------------------------------------------------------------\u001b[0m",
      "\u001b[1;31mAttributeError\u001b[0m                            Traceback (most recent call last)",
      "\u001b[1;32m<ipython-input-10-2436fc2ab63a>\u001b[0m in \u001b[0;36m<module>\u001b[1;34m()\u001b[0m\n\u001b[0;32m      1\u001b[0m \u001b[1;32mif\u001b[0m \u001b[0m__name__\u001b[0m \u001b[1;33m==\u001b[0m \u001b[1;34m'__main__'\u001b[0m\u001b[1;33m:\u001b[0m\u001b[1;33m\u001b[0m\u001b[0m\n\u001b[1;32m----> 2\u001b[1;33m     \u001b[0mmain\u001b[0m\u001b[1;33m(\u001b[0m\u001b[1;33m)\u001b[0m\u001b[1;33m\u001b[0m\u001b[0m\n\u001b[0m",
      "\u001b[1;32m<ipython-input-8-5e1f8555e432>\u001b[0m in \u001b[0;36mmain\u001b[1;34m()\u001b[0m\n\u001b[0;32m      6\u001b[0m \u001b[1;33m\u001b[0m\u001b[0m\n\u001b[0;32m      7\u001b[0m     \u001b[1;32mfor\u001b[0m \u001b[0msite\u001b[0m \u001b[1;32min\u001b[0m \u001b[0msite_list\u001b[0m\u001b[1;33m:\u001b[0m\u001b[1;33m\u001b[0m\u001b[0m\n\u001b[1;32m----> 8\u001b[1;33m         \u001b[0mrun\u001b[0m\u001b[1;33m(\u001b[0m\u001b[0msite\u001b[0m\u001b[1;33m.\u001b[0m\u001b[0mroom\u001b[0m\u001b[1;33m,\u001b[0m \u001b[0msite\u001b[0m\u001b[1;33m.\u001b[0m\u001b[0mname\u001b[0m\u001b[1;33m,\u001b[0m \u001b[0msite\u001b[0m\u001b[1;33m.\u001b[0m\u001b[0murl\u001b[0m\u001b[1;33m)\u001b[0m\u001b[1;33m\u001b[0m\u001b[0m\n\u001b[0m",
      "\u001b[1;31mAttributeError\u001b[0m: 'dict' object has no attribute 'room'"
     ]
    }
   ],
   "source": []
  },
  {
   "cell_type": "code",
   "execution_count": null,
   "metadata": {
    "collapsed": true
   },
   "outputs": [],
   "source": []
  }
 ],
 "metadata": {
  "kernelspec": {
   "display_name": "Python 3",
   "language": "python",
   "name": "python3"
  },
  "language_info": {
   "codemirror_mode": {
    "name": "ipython",
    "version": 3
   },
   "file_extension": ".py",
   "mimetype": "text/x-python",
   "name": "python",
   "nbconvert_exporter": "python",
   "pygments_lexer": "ipython3",
   "version": "3.6.3"
  }
 },
 "nbformat": 4,
 "nbformat_minor": 2
}
