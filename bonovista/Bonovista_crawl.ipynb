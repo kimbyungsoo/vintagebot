{
 "cells": [
  {
   "cell_type": "code",
   "execution_count": 1,
   "metadata": {},
   "outputs": [],
   "source": [
    "from bs4 import BeautifulSoup\n",
    "#import urllib.request             # HTTP Request and Response\n",
    "#from urllib.parse import quote    # UTF-8 to ASCII for URL\n",
    "from urllib.parse import urlparse, parse_qs # URL Parsing\n",
    "import requests\n",
    "import re\n",
    "import json"
   ]
  },
  {
   "cell_type": "code",
   "execution_count": 2,
   "metadata": {},
   "outputs": [],
   "source": [
    "#-*- coding: utf-8 -*-\n",
    "SHOP_URL = \"http://www.bonovista.com\""
   ]
  },
  {
   "cell_type": "code",
   "execution_count": 8,
   "metadata": {},
   "outputs": [],
   "source": [
    "frame = \"/html/mainn.html?ref=http%3A%2F%2Fwww.bonovista.com%2F\""
   ]
  },
  {
   "cell_type": "code",
   "execution_count": 66,
   "metadata": {},
   "outputs": [],
   "source": [
    "list_html = requests.get(url=SHOP_URL+frame).content\n",
    "list_lxml = BeautifulSoup(list_html, 'lxml', from_encoding='utf-8')"
   ]
  },
  {
   "cell_type": "code",
   "execution_count": 18,
   "metadata": {},
   "outputs": [],
   "source": [
    "url_list = [i.get('href') for i in list_lxml.select('#imglink')]\n",
    "img_list = [i.get('src') for i in list_lxml.select('#imglink img')]\n",
    "name_list = [i.find_all(text=True)[0] for i in list_lxml.select('tr.main_brandname2 td a font')]"
   ]
  },
  {
   "cell_type": "code",
   "execution_count": 24,
   "metadata": {},
   "outputs": [
    {
     "data": {
      "text/plain": [
       "160"
      ]
     },
     "execution_count": 24,
     "metadata": {},
     "output_type": "execute_result"
    }
   ],
   "source": [
    "#print(url_list)\n",
    "len(url_list)"
   ]
  },
  {
   "cell_type": "code",
   "execution_count": 21,
   "metadata": {},
   "outputs": [
    {
     "data": {
      "text/plain": [
       "160"
      ]
     },
     "execution_count": 21,
     "metadata": {},
     "output_type": "execute_result"
    }
   ],
   "source": [
    "#print(img_list)\n",
    "len(img_list)"
   ]
  },
  {
   "cell_type": "code",
   "execution_count": 22,
   "metadata": {},
   "outputs": [
    {
     "data": {
      "text/plain": [
       "160"
      ]
     },
     "execution_count": 22,
     "metadata": {},
     "output_type": "execute_result"
    }
   ],
   "source": [
    "#print(name_list)\n",
    "len(name_list)"
   ]
  },
  {
   "cell_type": "code",
   "execution_count": 40,
   "metadata": {},
   "outputs": [],
   "source": [
    "goods = []\n",
    "for i in range(len(url_list)):\n",
    "    goods.append({'url' : url_list[i], 'img' : img_list[i], 'name' : name_list[i]})"
   ]
  },
  {
   "cell_type": "code",
   "execution_count": 41,
   "metadata": {},
   "outputs": [
    {
     "data": {
      "text/plain": [
       "{'img': '/shopimages/bonovista/0350000119443.jpg?1547185028',\n",
       " 'name': 'DRY BONES',\n",
       " 'url': '/shop/shopdetail.html?branduid=138843&special=1&GfDT=a2x3UQ%3D%3D'}"
      ]
     },
     "execution_count": 41,
     "metadata": {},
     "output_type": "execute_result"
    }
   ],
   "source": [
    "goods[0]"
   ]
  },
  {
   "cell_type": "code",
   "execution_count": 2,
   "metadata": {},
   "outputs": [],
   "source": [
    "import sqlite3 as lite\n",
    "import time\n",
    "\n",
    "database_filename = 'bonovista.db'\n",
    "conn = lite.connect(database_filename)\n",
    "cs = conn.cursor()"
   ]
  },
  {
   "cell_type": "code",
   "execution_count": 64,
   "metadata": {},
   "outputs": [
    {
     "data": {
      "text/plain": [
       "<sqlite3.Cursor at 0x25c89294ce0>"
      ]
     },
     "execution_count": 64,
     "metadata": {},
     "output_type": "execute_result"
    }
   ],
   "source": [
    "query = \"DROP TABLE IF EXISTS old_goods\"\n",
    "cs.execute(query)"
   ]
  },
  {
   "cell_type": "code",
   "execution_count": 65,
   "metadata": {
    "scrolled": true
   },
   "outputs": [
    {
     "ename": "OperationalError",
     "evalue": "near \"EXISTS\": syntax error",
     "output_type": "error",
     "traceback": [
      "\u001b[1;31m---------------------------------------------------------------------------\u001b[0m",
      "\u001b[1;31mOperationalError\u001b[0m                          Traceback (most recent call last)",
      "\u001b[1;32m<ipython-input-65-4c78c55b72a4>\u001b[0m in \u001b[0;36m<module>\u001b[1;34m()\u001b[0m\n\u001b[0;32m      1\u001b[0m \u001b[0mquery\u001b[0m \u001b[1;33m=\u001b[0m \u001b[1;34m\"ALTER TABLE IF EXISTS goods RENAME TO old_goods\"\u001b[0m\u001b[1;33m\u001b[0m\u001b[0m\n\u001b[1;32m----> 2\u001b[1;33m \u001b[0mcs\u001b[0m\u001b[1;33m.\u001b[0m\u001b[0mexecute\u001b[0m\u001b[1;33m(\u001b[0m\u001b[0mquery\u001b[0m\u001b[1;33m)\u001b[0m\u001b[1;33m\u001b[0m\u001b[0m\n\u001b[0m",
      "\u001b[1;31mOperationalError\u001b[0m: near \"EXISTS\": syntax error"
     ]
    }
   ],
   "source": [
    "query = \"ALTER TABLE goods RENAME TO old_goods\"\n",
    "cs.execute(query)"
   ]
  },
  {
   "cell_type": "code",
   "execution_count": 54,
   "metadata": {},
   "outputs": [
    {
     "data": {
      "text/plain": [
       "<sqlite3.Cursor at 0x25c89294ce0>"
      ]
     },
     "execution_count": 54,
     "metadata": {},
     "output_type": "execute_result"
    }
   ],
   "source": [
    "#query = \"DROP TABLE IF EXISTS goods\"\n",
    "query = \"CREATE TABLE IF NOT EXISTS goods (name VARCHAR(255), url VARCHAR(255), img VARCHAR(255))\"\n",
    "cs.execute(query)"
   ]
  },
  {
   "cell_type": "code",
   "execution_count": 55,
   "metadata": {},
   "outputs": [],
   "source": [
    "for good in goods:\n",
    "    query = \"INSERT into goods (name,url,img) values (?, ?, ?)\"\n",
    "    cs.execute(query,(str(good['name']), good['url'],good['img']))\n",
    "conn.commit()"
   ]
  },
  {
   "cell_type": "code",
   "execution_count": 8,
   "metadata": {},
   "outputs": [],
   "source": [
    "query = \"INSERT into goods (name,url,img) values (?, ?, ?)\"\n",
    "cs.execute(query,(str(\"diff\"), \"diff_url\",\"diff_img\"))\n",
    "conn.commit()"
   ]
  },
  {
   "cell_type": "code",
   "execution_count": 6,
   "metadata": {},
   "outputs": [],
   "source": [
    "query = \"SELECT * FROM goods WHERE url NOT IN (SELECT DISTINCT url FROM old_goods)\"\n",
    "a = cs.execute(query)"
   ]
  },
  {
   "cell_type": "code",
   "execution_count": 7,
   "metadata": {},
   "outputs": [
    {
     "data": {
      "text/plain": [
       "[('DRY BONES - down padding jacket',\n",
       "  'http://www.bonovista.com/shop/shopdetail.html?branduid=138843&special=1&GfDT=aGx3UQ%3D%3D',\n",
       "  'http://www.bonovista.com/shopimages/bonovista/0350000119443.jpg?1547185028'),\n",
       " (\"70's CARLO PARAZZI ROMA made in italy\",\n",
       "  'http://www.bonovista.com/shop/shopdetail.html?branduid=138861&special=1&GfDT=bm95W10%3D',\n",
       "  'http://www.bonovista.com/shopimages/bonovista/0350000119543.jpg?1547189727'),\n",
       " ('0044 SEICHIIRO SHIMAMURA military remake parka',\n",
       "  'http://www.bonovista.com/shop/shopdetail.html?branduid=138844&special=1&GfDT=bmp%2BW14%3D',\n",
       "  'http://www.bonovista.com/shopimages/bonovista/0350000119453.jpg?1547185094'),\n",
       " (\"90's HUITIEME SPORT STUDIO - padding anorak parka\",\n",
       "  'http://www.bonovista.com/shop/shopdetail.html?branduid=138850&special=1&GfDT=bmt6W18%3D',\n",
       "  'http://www.bonovista.com/shopimages/bonovista/0350000119493.jpg?1547188917'),\n",
       " ('IM by ISSEY MIYAKE',\n",
       "  'http://www.bonovista.com/shop/shopdetail.html?branduid=138852&special=1&GfDT=bmh9W1g%3D',\n",
       "  'http://www.bonovista.com/shopimages/bonovista/0350000119513.jpg?1547189034'),\n",
       " ('IM by PRODUCT MEN - ISSEY MIYAKE',\n",
       "  'http://www.bonovista.com/shop/shopdetail.html?branduid=138826&special=1&GfDT=aWZ3VA%3D%3D',\n",
       "  'http://www.bonovista.com/shopimages/bonovista/0350000119363.jpg?1547175939'),\n",
       " ('NEIGHBORHOOD',\n",
       "  'http://www.bonovista.com/shop/shopdetail.html?branduid=138846&special=1&GfDT=bmV7',\n",
       "  'http://www.bonovista.com/shopimages/bonovista/0350000119473.jpg?1547185240'),\n",
       " ('A.P.C',\n",
       "  'http://www.bonovista.com/shop/shopdetail.html?branduid=138845&special=1&GfDT=bW93Vg%3D%3D',\n",
       "  'http://www.bonovista.com/shopimages/bonovista/0350000119463.jpg?1547185141'),\n",
       " (\"80's Y's by Yohji Yamamoto\",\n",
       "  'http://www.bonovista.com/shop/shopdetail.html?branduid=138858&special=1&GfDT=bG53WQ%3D%3D',\n",
       "  'http://www.bonovista.com/shopimages/bonovista/0360000092273.jpg?1547189523'),\n",
       " ('UNITED ARROWS Get Well Soon',\n",
       "  'http://www.bonovista.com/shop/shopdetail.html?branduid=138821&special=1&GfDT=Zm13WA%3D%3D',\n",
       "  'http://www.bonovista.com/shopimages/bonovista/0360000092193.jpg?1547175613'),\n",
       " ('MAX & CO by MAX MARA',\n",
       "  'http://www.bonovista.com/shop/shopdetail.html?branduid=138820&special=1&GfDT=bWV8UQ%3D%3D',\n",
       "  'http://www.bonovista.com/shopimages/bonovista/0360000092183.jpg?1547175547'),\n",
       " ('BACCA by TOMORROALAND',\n",
       "  'http://www.bonovista.com/shop/shopdetail.html?branduid=138819&special=1&GfDT=Zmd3UF0%3D',\n",
       "  'http://www.bonovista.com/shopimages/bonovista/0360000092173.jpg?1547175499'),\n",
       " ('LAVENHAM made in england',\n",
       "  'http://www.bonovista.com/shop/shopdetail.html?branduid=138857&special=1&GfDT=Z293UF4%3D',\n",
       "  'http://www.bonovista.com/shopimages/bonovista/0360000092263.jpg?1547189431'),\n",
       " ('RALPH LAUREN - tweed wool jacket',\n",
       "  'http://www.bonovista.com/shop/shopdetail.html?branduid=138860&special=1&GfDT=bm98W11H',\n",
       "  'http://www.bonovista.com/shopimages/bonovista/0360000092293.jpg?1547189646'),\n",
       " (\"90's HAI by ISSEY MIYAKE\",\n",
       "  'http://www.bonovista.com/shop/shopdetail.html?branduid=138859&special=1&GfDT=aGh3UFg%3D',\n",
       "  'http://www.bonovista.com/shopimages/bonovista/0360000092283.jpg?1547189585'),\n",
       " ('LES HALLES pure cashmere cardigan',\n",
       "  'http://www.bonovista.com/shop/shopdetail.html?branduid=138818&special=1&GfDT=bW93UFk%3D',\n",
       "  'http://www.bonovista.com/shopimages/bonovista/0350000119323.jpg?1547175428'),\n",
       " ('un bellabito',\n",
       "  'http://www.bonovista.com/shop/shopdetail.html?branduid=138824&special=1&GfDT=Zm53UFo%3D',\n",
       "  'http://www.bonovista.com/shopimages/bonovista/0350000119343.jpg?1547175797'),\n",
       " ('ALPHA',\n",
       "  'http://www.bonovista.com/shop/shopdetail.html?branduid=138841&special=1&GfDT=bmt9W11D',\n",
       "  'http://www.bonovista.com/shopimages/bonovista/0350000119423.jpg?1547184919'),\n",
       " ('japan pure cashmere coat',\n",
       "  'http://www.bonovista.com/shop/shopdetail.html?branduid=138823&special=1&GfDT=am93UFQ%3D',\n",
       "  'http://www.bonovista.com/shopimages/bonovista/0350000119333.jpg?1547175728'),\n",
       " ('cowichan hand knit jacket',\n",
       "  'http://www.bonovista.com/shop/shopdetail.html?branduid=138842&special=1&GfDT=a2d3UFU%3D',\n",
       "  'http://www.bonovista.com/shopimages/bonovista/0350000119433.jpg?1547184961'),\n",
       " ('SHIPS made in scotland',\n",
       "  'http://www.bonovista.com/shop/shopdetail.html?branduid=138847&special=1&GfDT=aGx3U1w%3D',\n",
       "  'http://www.bonovista.com/shopimages/bonovista/0350000119483.jpg?1547185287'),\n",
       " ('POLO by Ralph Lauren',\n",
       "  'http://www.bonovista.com/shop/shopdetail.html?branduid=138851&special=1&GfDT=bmt5W15F',\n",
       "  'http://www.bonovista.com/shopimages/bonovista/0350000119503.jpg?1547188979'),\n",
       " ('ivory court - fabric by Loro Piana co.',\n",
       "  'http://www.bonovista.com/shop/shopdetail.html?branduid=138825&special=1&GfDT=bm54W15G',\n",
       "  'http://www.bonovista.com/shopimages/bonovista/0350000119353.jpg?1547175862'),\n",
       " ('POLO by Ralph Lauren',\n",
       "  'http://www.bonovista.com/shop/shopdetail.html?branduid=138854&special=1&GfDT=bm53U18%3D',\n",
       "  'http://www.bonovista.com/shopimages/bonovista/0350000119523.jpg?1547189182'),\n",
       " ('blu sand - tweed wool coat',\n",
       "  'http://www.bonovista.com/shop/shopdetail.html?branduid=138816&special=1&GfDT=Zmh3U1g%3D',\n",
       "  'http://www.bonovista.com/shopimages/bonovista/0360000092153.jpg?1547174584'),\n",
       " ('FORE MORE',\n",
       "  'http://www.bonovista.com/shop/shopdetail.html?branduid=138815&special=1&GfDT=bml%2BW15B',\n",
       "  'http://www.bonovista.com/shopimages/bonovista/0360000092143.jpg?1547174527'),\n",
       " ('Deuxieme Classe',\n",
       "  'http://www.bonovista.com/shop/shopdetail.html?branduid=138822&special=1&GfDT=bmt6W15C',\n",
       "  'http://www.bonovista.com/shopimages/bonovista/0360000092203.jpg?1547175658'),\n",
       " ('WEGO - reversible jacket',\n",
       "  'http://www.bonovista.com/shop/shopdetail.html?branduid=138853&special=1&GfDT=bm50W15D',\n",
       "  'http://www.bonovista.com/shopimages/bonovista/0360000092253.jpg?1547189116'),\n",
       " ('BANANA REPUBLIC',\n",
       "  'http://www.bonovista.com/shop/shopdetail.html?branduid=138817&special=1&GfDT=a2Z3U1Q%3D',\n",
       "  'http://www.bonovista.com/shopimages/bonovista/0360000092163.jpg?1547175371'),\n",
       " (\"90's CK made in canada\",\n",
       "  'http://www.bonovista.com/shop/shopdetail.html?branduid=138869&special=1&GfDT=bmp1W15N',\n",
       "  'http://www.bonovista.com/shopimages/bonovista/0370000076603.jpg?1547191617'),\n",
       " ('LACOSTE',\n",
       "  'http://www.bonovista.com/shop/shopdetail.html?branduid=138868&special=1&GfDT=bmx4W19E',\n",
       "  'http://www.bonovista.com/shopimages/bonovista/0370000076593.jpg?1547191553'),\n",
       " ('NUMPH',\n",
       "  'http://www.bonovista.com/shop/shopdetail.html?branduid=138867&special=1&GfDT=Z2V%2BUA%3D%3D',\n",
       "  'http://www.bonovista.com/shopimages/bonovista/0370000076583.jpg?1547191506'),\n",
       " ('45RPM',\n",
       "  'http://www.bonovista.com/shop/shopdetail.html?branduid=138864&special=1&GfDT=bGx3Ul4%3D',\n",
       "  'http://www.bonovista.com/shopimages/bonovista/0370000076573.jpg?1547191335'),\n",
       " ('METAMORPHOSE',\n",
       "  'http://www.bonovista.com/shop/shopdetail.html?branduid=138863&special=1&GfDT=bWZ3Ul8%3D',\n",
       "  'http://www.bonovista.com/shopimages/bonovista/0370000076563.jpg?1547191268'),\n",
       " ('ALPINESTARS for SUBARU made in italy',\n",
       "  'http://www.bonovista.com/shop/shopdetail.html?branduid=138862&special=1&GfDT=bml6W19A',\n",
       "  'http://www.bonovista.com/shopimages/bonovista/0370000076553.jpg?1547191212'),\n",
       " (\"80's japan vintage knit\",\n",
       "  'http://www.bonovista.com/shop/shopdetail.html?branduid=138866&special=1&GfDT=bGt3Ulk%3D',\n",
       "  'http://www.bonovista.com/shopimages/bonovista/0380000039473.jpg?1547191438'),\n",
       " (\"80's ECILIA made in italy\",\n",
       "  'http://www.bonovista.com/shop/shopdetail.html?branduid=138865&special=1&GfDT=bm99W19C',\n",
       "  'http://www.bonovista.com/shopimages/bonovista/0380000039463.jpg?1547191384'),\n",
       " ('germany military pants (34)',\n",
       "  'http://www.bonovista.com/shop/shopdetail.html?branduid=138814&special=1&GfDT=Zmx3Uls%3D',\n",
       "  'http://www.bonovista.com/shopimages/bonovista/0030000096013.jpg?1547174478'),\n",
       " (\"90's LEVI'S 501 made in u.s.a (30)\",\n",
       "  'http://www.bonovista.com/shop/shopdetail.html?branduid=138812&special=1&GfDT=bm1%2FW19M',\n",
       "  'http://www.bonovista.com/shopimages/bonovista/0030000096003.jpg?1547174432'),\n",
       " ('POLO by Ralph Lauren (32)',\n",
       "  'http://www.bonovista.com/shop/shopdetail.html?branduid=138808&special=1&GfDT=Zmx3UlU%3D',\n",
       "  'http://www.bonovista.com/shopimages/bonovista/0030000095993.jpg?1547174254'),\n",
       " ('LVPQ (30-34)',\n",
       "  'http://www.bonovista.com/shop/shopdetail.html?branduid=138807&special=1&GfDT=bm5%2FW1hE',\n",
       "  'http://www.bonovista.com/shopimages/bonovista/0030000095983.jpg?1547174195'),\n",
       " (\"LEVI'S 502 (36)\",\n",
       "  'http://www.bonovista.com/shop/shopdetail.html?branduid=138805&special=1&GfDT=Zmh3VV0%3D',\n",
       "  'http://www.bonovista.com/shopimages/bonovista/0030000095973.jpg?1547174144'),\n",
       " ('POLO by Ralph Lauren (30)',\n",
       "  'http://www.bonovista.com/shop/shopdetail.html?branduid=138804&special=1&GfDT=bm15W1hG',\n",
       "  'http://www.bonovista.com/shopimages/bonovista/0030000095963.jpg?1547174109'),\n",
       " (\"90's LATON LAVEUR (30-34)\",\n",
       "  'http://www.bonovista.com/shop/shopdetail.html?branduid=138803&special=1&GfDT=a2p3VV8%3D',\n",
       "  'http://www.bonovista.com/shopimages/bonovista/0030000095953.jpg?1547174050'),\n",
       " ('K.T fabric by Loro Piana co. (30)',\n",
       "  'http://www.bonovista.com/shop/shopdetail.html?branduid=138855&special=1&GfDT=bml1W1hA',\n",
       "  'http://www.bonovista.com/shopimages/bonovista/0260000024853.jpg?1547189275'),\n",
       " ('CACHE made in u.s.a (28)',\n",
       "  'http://www.bonovista.com/shop/shopdetail.html?branduid=138811&special=1&GfDT=aGd3VVk%3D',\n",
       "  'http://www.bonovista.com/shopimages/bonovista/0260000024843.jpg?1547174380'),\n",
       " ('BURBERRY BLUE LABEL (28)',\n",
       "  'http://www.bonovista.com/shop/shopdetail.html?branduid=138810&special=1&GfDT=bml9W1hC',\n",
       "  'http://www.bonovista.com/shopimages/bonovista/0260000024833.jpg?1547174344'),\n",
       " ('YSL (24)',\n",
       "  'http://www.bonovista.com/shop/shopdetail.html?branduid=138809&special=1&GfDT=Z2h3VVs%3D',\n",
       "  'http://www.bonovista.com/shopimages/bonovista/0260000024823.jpg?1547174309'),\n",
       " ('WRANGLER 700 siries (32)',\n",
       "  'http://www.bonovista.com/shop/shopdetail.html?branduid=138856&special=1&GfDT=bmp3VVQ%3D',\n",
       "  'http://www.bonovista.com/shopimages/bonovista/0030000096023.jpg?1547189355'),\n",
       " ('KAMATATI',\n",
       "  'http://www.bonovista.com/shop/shopdetail.html?branduid=138830&special=1&GfDT=aGV5WA%3D%3D',\n",
       "  'http://www.bonovista.com/shopimages/bonovista/0350000119403.jpg?1547176637'),\n",
       " ('GOLDEN BEAR made in san francisco',\n",
       "  'http://www.bonovista.com/shop/shopdetail.html?branduid=138828&special=1&GfDT=bmt6W1lE',\n",
       "  'http://www.bonovista.com/shopimages/bonovista/0350000119383.jpg?1547176480'),\n",
       " ('KENT by VAN JAC. - stretch tweed jacket',\n",
       "  'http://www.bonovista.com/shop/shopdetail.html?branduid=138829&special=1&GfDT=bWZ3VF0%3D',\n",
       "  'http://www.bonovista.com/shopimages/bonovista/0350000119393.jpg?1547176559'),\n",
       " ('MARGARET HOWELL',\n",
       "  'http://www.bonovista.com/shop/shopdetail.html?branduid=138827&special=1&GfDT=bm15W1lG',\n",
       "  'http://www.bonovista.com/shopimages/bonovista/0350000119373.jpg?1547176408'),\n",
       " ('SCYE',\n",
       "  'http://www.bonovista.com/shop/shopdetail.html?branduid=138834&special=1&GfDT=bW93VF8%3D',\n",
       "  'http://www.bonovista.com/shopimages/bonovista/0360000092243.jpg?1547177045'),\n",
       " ('DUVETICA - goose down padding coat',\n",
       "  'http://www.bonovista.com/shop/shopdetail.html?branduid=138831&special=1&GfDT=bmx8W1lA',\n",
       "  'http://www.bonovista.com/shopimages/bonovista/0360000092213.jpg?1547176738'),\n",
       " ('SONNWEND made in austria - tyrol jacket',\n",
       "  'http://www.bonovista.com/shop/shopdetail.html?branduid=138833&special=1&GfDT=aG53VFk%3D',\n",
       "  'http://www.bonovista.com/shopimages/bonovista/0360000092233.jpg?1547176979'),\n",
       " ('MYSTIC',\n",
       "  'http://www.bonovista.com/shop/shopdetail.html?branduid=138832&special=1&GfDT=bmt0W1lC',\n",
       "  'http://www.bonovista.com/shopimages/bonovista/0360000092223.jpg?1547176889'),\n",
       " ('EDDIE BAUER made in u.s.a - goose down parka',\n",
       "  'http://www.bonovista.com/shop/shopdetail.html?branduid=138764&special=1&GfDT=aW93VFs%3D',\n",
       "  'http://www.bonovista.com/shopimages/bonovista/0350000119303.jpg?1547095059'),\n",
       " ('YUJI YAMADA x MID WEST HOMME',\n",
       "  'http://www.bonovista.com/shop/shopdetail.html?branduid=138763&special=1&GfDT=bm57W1lM',\n",
       "  'http://www.bonovista.com/shopimages/bonovista/0350000119293.jpg?1547094976'),\n",
       " (\"80's PERSONS\",\n",
       "  'http://www.bonovista.com/shop/shopdetail.html?branduid=138765&special=1&GfDT=a2V4WA%3D%3D',\n",
       "  'http://www.bonovista.com/shopimages/bonovista/0350000119313.jpg?1547095144'),\n",
       " ('PETER STORM',\n",
       "  'http://www.bonovista.com/shop/shopdetail.html?branduid=138762&special=1&GfDT=Z2d3V1w%3D',\n",
       "  'http://www.bonovista.com/shopimages/bonovista/0350000119283.jpg?1547094888'),\n",
       " ('NORBIT - reversible yokosuka jumper',\n",
       "  'http://www.bonovista.com/shop/shopdetail.html?branduid=138760&special=1&GfDT=bmt4W1pF',\n",
       "  'http://www.bonovista.com/shopimages/bonovista/0350000119263.jpg?1547094738'),\n",
       " (\"70's CANADA - down padding vest\",\n",
       "  'http://www.bonovista.com/shop/shopdetail.html?branduid=138761&special=1&GfDT=aGx3V14%3D',\n",
       "  'http://www.bonovista.com/shopimages/bonovista/0350000119273.jpg?1547094799'),\n",
       " (\"80's CONFECCOES J.R.\",\n",
       "  'http://www.bonovista.com/shop/shopdetail.html?branduid=126114&special=1&GfDT=b2V7Ug%3D%3D',\n",
       "  'http://www.bonovista.com/shopimages/bonovista/0350000110623.jpg?1525944905'),\n",
       " ('M.H.O ZONE SIRIES - armor vest',\n",
       "  'http://www.bonovista.com/shop/shopdetail.html?branduid=131889&special=1&GfDT=bm10W1pA',\n",
       "  'http://www.bonovista.com/shopimages/bonovista/0350000113563.jpg?1535077223'),\n",
       " ('LES PARIRES DE PARIS made in france - wool & alpaca coat',\n",
       "  'http://www.bonovista.com/shop/shopdetail.html?branduid=138757&special=1&GfDT=bWV7VA%3D%3D',\n",
       "  'http://www.bonovista.com/shopimages/bonovista/0360000092133.jpg?1547094507'),\n",
       " ('YVES SAINT LAURENT',\n",
       "  'http://www.bonovista.com/shop/shopdetail.html?branduid=138759&special=1&GfDT=bm16W1pC',\n",
       "  'http://www.bonovista.com/shopimages/bonovista/0360000092113.jpg?1547094643'),\n",
       " ('PAUL SMITH BLACK - wool & cashmere coat',\n",
       "  'http://www.bonovista.com/shop/shopdetail.html?branduid=138756&special=1&GfDT=Z253V1s%3D',\n",
       "  'http://www.bonovista.com/shopimages/bonovista/0360000092123.jpg?1547094442'),\n",
       " ('LADY LUCK LUCA',\n",
       "  'http://www.bonovista.com/shop/shopdetail.html?branduid=138758&special=1&GfDT=amh3V1Q%3D',\n",
       "  'http://www.bonovista.com/shopimages/bonovista/0360000092103.jpg?1547094593'),\n",
       " ('CRIMIE blanket liner jacket',\n",
       "  'http://www.bonovista.com/shop/shopdetail.html?branduid=138720&special=1&GfDT=bmp%2FW1pN',\n",
       "  'http://www.bonovista.com/shopimages/bonovista/0350000119213.jpg?1547007973'),\n",
       " ('Jellan',\n",
       "  'http://www.bonovista.com/shop/shopdetail.html?branduid=138722&special=1&GfDT=bm50W1tE',\n",
       "  'http://www.bonovista.com/shopimages/bonovista/0350000119233.jpg?1547008065'),\n",
       " ('DENIME',\n",
       "  'http://www.bonovista.com/shop/shopdetail.html?branduid=138721&special=1&GfDT=bml%2FW1tF',\n",
       "  'http://www.bonovista.com/shopimages/bonovista/0350000119223.jpg?1547008028'),\n",
       " (\"LEVI'S 70810\",\n",
       "  'http://www.bonovista.com/shop/shopdetail.html?branduid=138719&special=1&GfDT=bmh8W1tG',\n",
       "  'http://www.bonovista.com/shopimages/bonovista/0350000119203.jpg?1547007816'),\n",
       " ('MAX & CO by MAX MARA down padding coat',\n",
       "  'http://www.bonovista.com/shop/shopdetail.html?branduid=138726&special=1&GfDT=ZmZ3Vl8%3D',\n",
       "  'http://www.bonovista.com/shopimages/bonovista/0360000092093.jpg?1547008305'),\n",
       " ('JILL STUART',\n",
       "  'http://www.bonovista.com/shop/shopdetail.html?branduid=138725&special=1&GfDT=bm91W1tA',\n",
       "  'http://www.bonovista.com/shopimages/bonovista/0360000092083.jpg?1547008234'),\n",
       " ('BROOKS BROTHERS wool cardigan',\n",
       "  'http://www.bonovista.com/shop/shopdetail.html?branduid=138724&special=1&GfDT=amx3Vlk%3D',\n",
       "  'http://www.bonovista.com/shopimages/bonovista/0360000092073.jpg?1547008166'),\n",
       " ('AVANEZ made in france',\n",
       "  'http://www.bonovista.com/shop/shopdetail.html?branduid=138723&special=1&GfDT=Z2Z3Vlo%3D',\n",
       "  'http://www.bonovista.com/shopimages/bonovista/0360000092063.jpg?1547008104'),\n",
       " ('CHAMPION reverse weave - made in u.s.a',\n",
       "  'http://www.bonovista.com/shop/shopdetail.html?branduid=138718&special=1&GfDT=bGV6Vg%3D%3D',\n",
       "  'http://www.bonovista.com/shopimages/bonovista/0370000076543.jpg?1547007764'),\n",
       " ('Labrado Retriever',\n",
       "  'http://www.bonovista.com/shop/shopdetail.html?branduid=138717&special=1&GfDT=bGd3VlQ%3D',\n",
       "  'http://www.bonovista.com/shopimages/bonovista/0370000076533.jpg?1547007723'),\n",
       " ('McCOY SPORTSWEAR',\n",
       "  'http://www.bonovista.com/shop/shopdetail.html?branduid=138716&special=1&GfDT=bmp4W1tN',\n",
       "  'http://www.bonovista.com/shopimages/bonovista/0370000076523.jpg?1547007646'),\n",
       " ('Bridge of Allan - made in scotland',\n",
       "  'http://www.bonovista.com/shop/shopdetail.html?branduid=138715&special=1&GfDT=bmx6W1RE',\n",
       "  'http://www.bonovista.com/shopimages/bonovista/0370000076513.jpg?1547007522'),\n",
       " ('ASEEDONCLOUD',\n",
       "  'http://www.bonovista.com/shop/shopdetail.html?branduid=138677&special=1&GfDT=bmV1UA%3D%3D',\n",
       "  'http://www.bonovista.com/shopimages/bonovista/0350000119193.jpg?1546922212'),\n",
       " ('RINEN',\n",
       "  'http://www.bonovista.com/shop/shopdetail.html?branduid=138675&special=1&GfDT=a2t3WV4%3D',\n",
       "  'http://www.bonovista.com/shopimages/bonovista/0350000119173.jpg?1546922115'),\n",
       " ('BLUEWAY',\n",
       "  'http://www.bonovista.com/shop/shopdetail.html?branduid=138674&special=1&GfDT=bm18W1RH',\n",
       "  'http://www.bonovista.com/shopimages/bonovista/0350000119163.jpg?1546922069'),\n",
       " ('GIORGIO ARMANI',\n",
       "  'http://www.bonovista.com/shop/shopdetail.html?branduid=138673&special=1&GfDT=Z2h3WVg%3D',\n",
       "  'http://www.bonovista.com/shopimages/bonovista/0350000119153.jpg?1546922018'),\n",
       " (\"90's PATAGONIA\",\n",
       "  'http://www.bonovista.com/shop/shopdetail.html?branduid=138670&special=1&GfDT=bW53WVk%3D',\n",
       "  'http://www.bonovista.com/shopimages/bonovista/0350000119123.jpg?1546921872'),\n",
       " ('PATAGONIA - down padding jacket',\n",
       "  'http://www.bonovista.com/shop/shopdetail.html?branduid=138669&special=1&GfDT=bm9%2BW1RC',\n",
       "  'http://www.bonovista.com/shopimages/bonovista/0350000119113.jpg?1546921819'),\n",
       " (\"90's LACOSTE\",\n",
       "  'http://www.bonovista.com/shop/shopdetail.html?branduid=138671&special=1&GfDT=Z293WVs%3D',\n",
       "  'http://www.bonovista.com/shopimages/bonovista/0350000119133.jpg?1546921923'),\n",
       " ('THE NORTHFACE - armadila fleece jacket',\n",
       "  'http://www.bonovista.com/shop/shopdetail.html?branduid=138672&special=1&GfDT=bmx1W1RM',\n",
       "  'http://www.bonovista.com/shopimages/bonovista/0350000119143.jpg?1546921970'),\n",
       " ('SUPREME',\n",
       "  'http://www.bonovista.com/shop/shopdetail.html?branduid=138678&special=1&GfDT=a2x3WVU%3D',\n",
       "  'http://www.bonovista.com/shopimages/bonovista/0370000076493.jpg?1546922261'),\n",
       " (\"90's VOLUPTUOUS HOMME\",\n",
       "  'http://www.bonovista.com/shop/shopdetail.html?branduid=138679&special=1&GfDT=bmx1W1VE',\n",
       "  'http://www.bonovista.com/shopimages/bonovista/0370000076503.jpg?1546922307'),\n",
       " (\"90's BARENTS\",\n",
       "  'http://www.bonovista.com/shop/shopdetail.html?branduid=138681&special=1&GfDT=a2d3WF0%3D',\n",
       "  'http://www.bonovista.com/shopimages/bonovista/0380000039443.jpg?1546922421'),\n",
       " (\"90's vtg shirt\",\n",
       "  'http://www.bonovista.com/shop/shopdetail.html?branduid=138680&special=1&GfDT=bWh3WF4%3D',\n",
       "  'http://www.bonovista.com/shopimages/bonovista/0380000039433.jpg?1546922374'),\n",
       " ('STONE ISLAND',\n",
       "  'http://www.bonovista.com/shop/shopdetail.html?branduid=138531&special=1&GfDT=bm1%2FW1VH',\n",
       "  'http://www.bonovista.com/shopimages/bonovista/0350000119003.jpg?1546588540'),\n",
       " ('EMPORIO ARMANI',\n",
       "  'http://www.bonovista.com/shop/shopdetail.html?branduid=138533&special=1&GfDT=bmx%2BW1VA',\n",
       "  'http://www.bonovista.com/shopimages/bonovista/0350000119023.jpg?1546588667'),\n",
       " ('O.S.SYSTEM made in u.s.a',\n",
       "  'http://www.bonovista.com/shop/shopdetail.html?branduid=138536&special=1&GfDT=bmx7W1VB',\n",
       "  'http://www.bonovista.com/shopimages/bonovista/0350000119053.jpg?1546588862'),\n",
       " ('MELPLE',\n",
       "  'http://www.bonovista.com/shop/shopdetail.html?branduid=138535&special=1&GfDT=bml7W1VC',\n",
       "  'http://www.bonovista.com/shopimages/bonovista/0350000119043.jpg?1546588803'),\n",
       " ('GIGNI - military remake jacket',\n",
       "  'http://www.bonovista.com/shop/shopdetail.html?branduid=138542&special=1&GfDT=Zm13WFs%3D',\n",
       "  'http://www.bonovista.com/shopimages/bonovista/0350000119093.jpg?1546589380'),\n",
       " ('SARTORIA DEL GIACCONE made in italy',\n",
       "  'http://www.bonovista.com/shop/shopdetail.html?branduid=138540&special=1&GfDT=bm1%2BW1VM',\n",
       "  'http://www.bonovista.com/shopimages/bonovista/0350000119073.jpg?1546589235'),\n",
       " ('45RPM - down parka',\n",
       "  'http://www.bonovista.com/shop/shopdetail.html?branduid=138537&special=1&GfDT=a2x3WFU%3D',\n",
       "  'http://www.bonovista.com/shopimages/bonovista/0350000119063.jpg?1546588978'),\n",
       " ('W CRAFT UNION',\n",
       "  'http://www.bonovista.com/shop/shopdetail.html?branduid=138534&special=1&GfDT=Zmx3UFxE',\n",
       "  'http://www.bonovista.com/shopimages/bonovista/0350000119033.jpg?1546588722'),\n",
       " ('ISSEY MIYAKE',\n",
       "  'http://www.bonovista.com/shop/shopdetail.html?branduid=138541&special=1&GfDT=bWx3UFxF',\n",
       "  'http://www.bonovista.com/shopimages/bonovista/0350000119083.jpg?1546589312'),\n",
       " ('ISSEY MIYAKE',\n",
       "  'http://www.bonovista.com/shop/shopdetail.html?branduid=138539&special=1&GfDT=bWd3UFxG',\n",
       "  'http://www.bonovista.com/shopimages/bonovista/0360000091953.jpg?1546589164'),\n",
       " ('ISSEY MIYAKE',\n",
       "  'http://www.bonovista.com/shop/shopdetail.html?branduid=138538&special=1&GfDT=aGl3UFxH',\n",
       "  'http://www.bonovista.com/shopimages/bonovista/0360000091943.jpg?1546589088'),\n",
       " ('RUE DE BLUE',\n",
       "  'http://www.bonovista.com/shop/shopdetail.html?branduid=138544&special=1&GfDT=bmx0W11EXA%3D%3D',\n",
       "  'http://www.bonovista.com/shopimages/bonovista/0360000092033.jpg?1546589533'),\n",
       " ('MAX & CO',\n",
       "  'http://www.bonovista.com/shop/shopdetail.html?branduid=138553&special=1&GfDT=bmd3UFxB',\n",
       "  'http://www.bonovista.com/shopimages/bonovista/0360000092003.jpg?1546590397'),\n",
       " ('J.PRESS',\n",
       "  'http://www.bonovista.com/shop/shopdetail.html?branduid=138552&special=1&GfDT=bm18W11EXg%3D%3D',\n",
       "  'http://www.bonovista.com/shopimages/bonovista/0360000091993.jpg?1546590296'),\n",
       " ('SONIA RYKIEL COLLECTION',\n",
       "  'http://www.bonovista.com/shop/shopdetail.html?branduid=138551&special=1&GfDT=bm58W11EXw%3D%3D',\n",
       "  'http://www.bonovista.com/shopimages/bonovista/0360000091983.jpg?1546590198'),\n",
       " ('MOSCHINO - tweed coat',\n",
       "  'http://www.bonovista.com/shop/shopdetail.html?branduid=138550&special=1&GfDT=bmt6W11EUA%3D%3D',\n",
       "  'http://www.bonovista.com/shopimages/bonovista/0360000091973.jpg?1546590124'),\n",
       " ('MANI made in italy',\n",
       "  'http://www.bonovista.com/shop/shopdetail.html?branduid=138549&special=1&GfDT=bm56W11EUQ%3D%3D',\n",
       "  'http://www.bonovista.com/shopimages/bonovista/0360000091963.jpg?1546590062'),\n",
       " ('nitca',\n",
       "  'http://www.bonovista.com/shop/shopdetail.html?branduid=138548&special=1&GfDT=bm56W11FWA%3D%3D',\n",
       "  'http://www.bonovista.com/shopimages/bonovista/0360000092043.jpg?1546589940'),\n",
       " ('BURBERRY LONDON',\n",
       "  'http://www.bonovista.com/shop/shopdetail.html?branduid=138546&special=1&GfDT=bmp7W11FWQ%3D%3D',\n",
       "  'http://www.bonovista.com/shopimages/bonovista/0360000092013.jpg?1546589697'),\n",
       " ('VERSUS by VERSACE',\n",
       "  'http://www.bonovista.com/shop/shopdetail.html?branduid=138545&special=1&GfDT=bml0W11FWg%3D%3D',\n",
       "  'http://www.bonovista.com/shopimages/bonovista/0360000092023.jpg?1546589617'),\n",
       " ('TOMMY BAHAMA',\n",
       "  'http://www.bonovista.com/shop/shopdetail.html?branduid=138547&special=1&GfDT=am53UF1H',\n",
       "  'http://www.bonovista.com/shopimages/bonovista/0360000092053.jpg?1546589836'),\n",
       " ('LANVIN',\n",
       "  'http://www.bonovista.com/shop/shopdetail.html?branduid=138543&special=1&GfDT=bm57W11FXA%3D%3D',\n",
       "  'http://www.bonovista.com/shopimages/bonovista/0350000119103.jpg?1546589458'),\n",
       " ('ALANET fabric from italy',\n",
       "  'http://www.bonovista.com/shop/shopdetail.html?branduid=138532&special=1&GfDT=bm91W11FXQ%3D%3D',\n",
       "  'http://www.bonovista.com/shopimages/bonovista/0350000119013.jpg?1546588606'),\n",
       " (\"Y's YOHJI YAMAMOTO (34)\",\n",
       "  'http://www.bonovista.com/shop/shopdetail.html?branduid=138526&special=1&GfDT=bm5%2FW11FXg%3D%3D',\n",
       "  'http://www.bonovista.com/shopimages/bonovista/0030000095943.jpg?1546588222'),\n",
       " ('COMME des GARCONS HOMME (28)',\n",
       "  'http://www.bonovista.com/shop/shopdetail.html?branduid=138525&special=1&GfDT=bm53UF1D',\n",
       "  'http://www.bonovista.com/shopimages/bonovista/0030000095933.jpg?1546588103'),\n",
       " ('LVC 66501 (28)',\n",
       "  'http://www.bonovista.com/shop/shopdetail.html?branduid=138524&special=1&GfDT=bmx0W11FUA%3D%3D',\n",
       "  'http://www.bonovista.com/shopimages/bonovista/0030000095923.jpg?1546588031'),\n",
       " ('DENIME (27)',\n",
       "  'http://www.bonovista.com/shop/shopdetail.html?branduid=138523&special=1&GfDT=bGh3UF1N',\n",
       "  'http://www.bonovista.com/shopimages/bonovista/0030000095913.jpg?1546587983'),\n",
       " ('CONVOY AND FUNK CO. by RADIALL (33)',\n",
       "  'http://www.bonovista.com/shop/shopdetail.html?branduid=138522&special=1&GfDT=bmp0W11GWA%3D%3D',\n",
       "  'http://www.bonovista.com/shopimages/bonovista/0030000095903.jpg?1546587773'),\n",
       " ('LVC 47501 (28)',\n",
       "  'http://www.bonovista.com/shop/shopdetail.html?branduid=138521&special=1&GfDT=bml8W11GWQ%3D%3D',\n",
       "  'http://www.bonovista.com/shopimages/bonovista/0030000095893.jpg?1546587706'),\n",
       " (\"90's LEVI'S 501 made in u.s.a (30)\",\n",
       "  'http://www.bonovista.com/shop/shopdetail.html?branduid=138520&special=1&GfDT=bWp3UF5G',\n",
       "  'http://www.bonovista.com/shopimages/bonovista/0030000095883.jpg?1546587658'),\n",
       " (\"90's GUESS (30)\",\n",
       "  'http://www.bonovista.com/shop/shopdetail.html?branduid=138519&special=1&GfDT=bGt3UF5H',\n",
       "  'http://www.bonovista.com/shopimages/bonovista/0030000095873.jpg?1546587605'),\n",
       " ('45RPM (25)',\n",
       "  'http://www.bonovista.com/shop/shopdetail.html?branduid=138530&special=1&GfDT=bml9W11GXA%3D%3D',\n",
       "  'http://www.bonovista.com/shopimages/bonovista/0260000024813.jpg?1546588473'),\n",
       " ('TSUMORI CHISATO (25)',\n",
       "  'http://www.bonovista.com/shop/shopdetail.html?branduid=138529&special=1&GfDT=amZ3UF5B',\n",
       "  'http://www.bonovista.com/shopimages/bonovista/0260000024803.jpg?1546588375'),\n",
       " ('ISABEL MARANT (29)',\n",
       "  'http://www.bonovista.com/shop/shopdetail.html?branduid=138527&special=1&GfDT=bm93UF5C',\n",
       "  'http://www.bonovista.com/shopimages/bonovista/0260000024793.jpg?1546588297'),\n",
       " ('BURBERRYS made in england',\n",
       "  'http://www.bonovista.com/shop/shopdetail.html?branduid=138261&special=1&GfDT=aG93UF5D',\n",
       "  'http://www.bonovista.com/shopimages/bonovista/0350000118883.jpg?1545974702'),\n",
       " ('A BATHING APE down parka',\n",
       "  'http://www.bonovista.com/shop/shopdetail.html?branduid=138249&special=1&GfDT=bm51W11GUA%3D%3D',\n",
       "  'http://www.bonovista.com/shopimages/bonovista/0350000118853.jpg?1545973326'),\n",
       " ('THE NORTH FACE gore-tex jacket',\n",
       "  'http://www.bonovista.com/shop/shopdetail.html?branduid=138293&special=1&GfDT=aGh3UF5N',\n",
       "  'http://www.bonovista.com/shopimages/bonovista/0350000118923.jpg?1546050691'),\n",
       " (\"80's meeiing\",\n",
       "  'http://www.bonovista.com/shop/shopdetail.html?branduid=138292&special=1&GfDT=bm18W11HWA%3D%3D',\n",
       "  'http://www.bonovista.com/shopimages/bonovista/0350000118913.jpg?1546050601'),\n",
       " ('MARDALE made in england',\n",
       "  'http://www.bonovista.com/shop/shopdetail.html?branduid=138294&special=1&GfDT=bmV8Ul0%3D',\n",
       "  'http://www.bonovista.com/shopimages/bonovista/0350000118933.jpg?1546050840'),\n",
       " ('WHIZ',\n",
       "  'http://www.bonovista.com/shop/shopdetail.html?branduid=138263&special=1&GfDT=Zml3UF9G',\n",
       "  'http://www.bonovista.com/shopimages/bonovista/0350000118903.jpg?1545974876'),\n",
       " ('MACKDADDY',\n",
       "  'http://www.bonovista.com/shop/shopdetail.html?branduid=138262&special=1&GfDT=bm95W11HWw%3D%3D',\n",
       "  'http://www.bonovista.com/shopimages/bonovista/0350000118893.jpg?1545974802'),\n",
       " ('POLO by Ralph Lauren',\n",
       "  'http://www.bonovista.com/shop/shopdetail.html?branduid=138248&special=1&GfDT=bm99W11HXA%3D%3D',\n",
       "  'http://www.bonovista.com/shopimages/bonovista/0350000118843.jpg?1545973258'),\n",
       " ('VIVIENNE WESTWOOD',\n",
       "  'http://www.bonovista.com/shop/shopdetail.html?branduid=138345&special=1&GfDT=bm50W11HXQ%3D%3D',\n",
       "  'http://www.bonovista.com/shopimages/bonovista/0360000091933.jpg?1546154269'),\n",
       " ('LES PRARIES DE PARIS made in poland',\n",
       "  'http://www.bonovista.com/shop/shopdetail.html?branduid=138244&special=1&GfDT=bmt1W11HXg%3D%3D',\n",
       "  'http://www.bonovista.com/shopimages/bonovista/0360000091903.jpg?1545972990'),\n",
       " ('NANO UNIVERSE fake fur jacket',\n",
       "  'http://www.bonovista.com/shop/shopdetail.html?branduid=138245&special=1&GfDT=Zmd3UF9D',\n",
       "  'http://www.bonovista.com/shopimages/bonovista/0360000091913.jpg?1545973104'),\n",
       " ('HAI by ISSEY MIYAKE mouton coat',\n",
       "  'http://www.bonovista.com/shop/shopdetail.html?branduid=138247&special=1&GfDT=bml9W11HUA%3D%3D',\n",
       "  'http://www.bonovista.com/shopimages/bonovista/0350000118833.jpg?1545973209'),\n",
       " ('SLOBE IENA knit onepiece',\n",
       "  'http://www.bonovista.com/shop/shopdetail.html?branduid=138252&special=1&GfDT=aGh3UF9N',\n",
       "  'http://www.bonovista.com/shopimages/bonovista/0360000091923.jpg?1545973523'),\n",
       " ('JUNMEN',\n",
       "  'http://www.bonovista.com/shop/shopdetail.html?branduid=138251&special=1&GfDT=aWx3UFhE',\n",
       "  'http://www.bonovista.com/shopimages/bonovista/0350000118873.jpg?1545973454'),\n",
       " ('POLO by Ralph Lauren',\n",
       "  'http://www.bonovista.com/shop/shopdetail.html?branduid=138250&special=1&GfDT=bmp7W11AWQ%3D%3D',\n",
       "  'http://www.bonovista.com/shopimages/bonovista/0350000118863.jpg?1545973396'),\n",
       " ('ESSAY',\n",
       "  'http://www.bonovista.com/shop/shopdetail.html?branduid=138260&special=1&GfDT=bmx%2FW11AWg%3D%3D',\n",
       "  'http://www.bonovista.com/shopimages/bonovista/0370000076453.jpg?1546051167'),\n",
       " ('BURBERRYS made in england',\n",
       "  'http://www.bonovista.com/shop/shopdetail.html?branduid=138265&special=1&GfDT=bG13UFhH',\n",
       "  'http://www.bonovista.com/shopimages/bonovista/0370000076473.jpg?1545975090'),\n",
       " ('POLO SPORT - RALPH LAUREN',\n",
       "  'http://www.bonovista.com/shop/shopdetail.html?branduid=138264&special=1&GfDT=aGZ3UFhA',\n",
       "  'http://www.bonovista.com/shopimages/bonovista/0370000076463.jpg?1545974985'),\n",
       " (\"90's GOODENOUGH\",\n",
       "  'http://www.bonovista.com/shop/shopdetail.html?branduid=138255&special=1&GfDT=bml1W11AXQ%3D%3D',\n",
       "  'http://www.bonovista.com/shopimages/bonovista/0370000076413.jpg?1545973794'),\n",
       " ('HIGHLAND 2000 made in england',\n",
       "  'http://www.bonovista.com/shop/shopdetail.html?branduid=138254&special=1&GfDT=bm1%2FW11AXg%3D%3D',\n",
       "  'http://www.bonovista.com/shopimages/bonovista/0370000076403.jpg?1545973643'),\n",
       " (\"SISTER'S\",\n",
       "  'http://www.bonovista.com/shop/shopdetail.html?branduid=138258&special=1&GfDT=bGZ3UFhD',\n",
       "  'http://www.bonovista.com/shopimages/bonovista/0380000039423.jpg?1545973967'),\n",
       " ('ABAHOUSE - mohair knit sweater',\n",
       "  'http://www.bonovista.com/shop/shopdetail.html?branduid=138257&special=1&GfDT=bmx5W11AUA%3D%3D',\n",
       "  'http://www.bonovista.com/shopimages/bonovista/0370000076433.jpg?1545973900'),\n",
       " ('LE QUATTRO STAGIONI',\n",
       "  'http://www.bonovista.com/shop/shopdetail.html?branduid=138256&special=1&GfDT=bm13UFhN',\n",
       "  'http://www.bonovista.com/shopimages/bonovista/0370000076423.jpg?1545973832'),\n",
       " ('TWO AND HALF',\n",
       "  'http://www.bonovista.com/shop/shopdetail.html?branduid=138253&special=1&GfDT=aWx3UFlE',\n",
       "  'http://www.bonovista.com/shopimages/bonovista/0370000076393.jpg?1545973583'),\n",
       " ('LACOSTE',\n",
       "  'http://www.bonovista.com/shop/shopdetail.html?branduid=138267&special=1&GfDT=am53UFlF',\n",
       "  'http://www.bonovista.com/shopimages/bonovista/0370000076483.jpg?1545975197'),\n",
       " ('cepo',\n",
       "  'http://www.bonovista.com/shop/shopdetail.html?branduid=138259&special=1&GfDT=bmZ3UFlG',\n",
       "  'http://www.bonovista.com/shopimages/bonovista/0380000039403.jpg?1545974054'),\n",
       " (\"80's MAVERICK made in u.s.a\",\n",
       "  'http://www.bonovista.com/shop/shopdetail.html?branduid=138152&special=1&GfDT=aWd3UFlH',\n",
       "  'http://www.bonovista.com/shopimages/bonovista/0370000076383.jpg?1545793627'),\n",
       " ('PEN FIELD',\n",
       "  'http://www.bonovista.com/shop/shopdetail.html?branduid=138151&special=1&GfDT=aW53UFlA',\n",
       "  'http://www.bonovista.com/shopimages/bonovista/0370000076373.jpg?1545793576'),\n",
       " (\"90's CHRISTIAN DIOR (29)\",\n",
       "  'http://www.bonovista.com/shop/shopdetail.html?branduid=138268&special=1&GfDT=bm94W11BXQ%3D%3D',\n",
       "  'http://www.bonovista.com/shopimages/bonovista/0030000095863.jpg?1545975248'),\n",
       " (\"LEVI'S 508 (30)\",\n",
       "  'http://www.bonovista.com/shop/shopdetail.html?branduid=138243&special=1&GfDT=bmx3UFlC',\n",
       "  'http://www.bonovista.com/shopimages/bonovista/0030000095853.jpg?1545972936'),\n",
       " (\"LEVI'S 702 (30)\",\n",
       "  'http://www.bonovista.com/shop/shopdetail.html?branduid=138242&special=1&GfDT=bmt0W11BXw%3D%3D',\n",
       "  'http://www.bonovista.com/shopimages/bonovista/0030000095843.jpg?1545972893'),\n",
       " (\"LEVI'S 702 (30)\",\n",
       "  'http://www.bonovista.com/shop/shopdetail.html?branduid=138240&special=1&GfDT=a2l3UFlM',\n",
       "  'http://www.bonovista.com/shopimages/bonovista/0030000095833.jpg?1545966493'),\n",
       " ('LVC 44501 (29)',\n",
       "  'http://www.bonovista.com/shop/shopdetail.html?branduid=138239&special=1&GfDT=aGZ3UFlN',\n",
       "  'http://www.bonovista.com/shopimages/bonovista/0030000095823.jpg?1545966386'),\n",
       " ('차집합', '차집합유알엘', '차집합이미지')]"
      ]
     },
     "execution_count": 7,
     "metadata": {},
     "output_type": "execute_result"
    }
   ],
   "source": [
    "b=a.fetchall()\n",
    "b"
   ]
  },
  {
   "cell_type": "code",
   "execution_count": 62,
   "metadata": {},
   "outputs": [
    {
     "data": {
      "text/plain": [
       "1"
      ]
     },
     "execution_count": 62,
     "metadata": {},
     "output_type": "execute_result"
    }
   ],
   "source": [
    "len(b)"
   ]
  },
  {
   "cell_type": "code",
   "execution_count": 53,
   "metadata": {},
   "outputs": [
    {
     "data": {
      "text/plain": [
       "<sqlite3.Cursor at 0x25c89294ce0>"
      ]
     },
     "execution_count": 53,
     "metadata": {},
     "output_type": "execute_result"
    }
   ],
   "source": [
    "query = \"ALTER TABLE goods RENAME TO old_goods\"\n",
    "cs.execute(query)"
   ]
  },
  {
   "cell_type": "code",
   "execution_count": null,
   "metadata": {},
   "outputs": [],
   "source": []
  }
 ],
 "metadata": {
  "kernelspec": {
   "display_name": "Python 3",
   "language": "python",
   "name": "python3"
  },
  "language_info": {
   "codemirror_mode": {
    "name": "ipython",
    "version": 3
   },
   "file_extension": ".py",
   "mimetype": "text/x-python",
   "name": "python",
   "nbconvert_exporter": "python",
   "pygments_lexer": "ipython3",
   "version": "3.6.4"
  }
 },
 "nbformat": 4,
 "nbformat_minor": 2
}
