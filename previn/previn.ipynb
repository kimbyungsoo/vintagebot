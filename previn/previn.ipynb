{
 "cells": [
  {
   "cell_type": "code",
   "execution_count": 1,
   "metadata": {},
   "outputs": [],
   "source": [
    "from bs4 import BeautifulSoup\n",
    "#import urllib.request             # HTTP Request and Response\n",
    "#from urllib.parse import quote    # UTF-8 to ASCII for URL\n",
    "from urllib.parse import urlparse, parse_qs # URL Parsing\n",
    "import requests\n",
    "import re\n",
    "import json"
   ]
  },
  {
   "cell_type": "code",
   "execution_count": 2,
   "metadata": {},
   "outputs": [],
   "source": [
    "#-*- coding: utf-8 -*-\n",
    "SHOP_URL = \"http://www.previn.co.kr/shop/shopbrand.html?type=P&xcode=010&sort=&page=1\""
   ]
  },
  {
   "cell_type": "code",
   "execution_count": 3,
   "metadata": {},
   "outputs": [],
   "source": [
    "headers = {'User-Agent': 'Mozilla/5.0 (Windows NT 10.0; Win64; x64) AppleWebKit/537.36 (KHTML, like Gecko) Chrome/71.0.3578.98 Safari/537.36'}"
   ]
  },
  {
   "cell_type": "code",
   "execution_count": 4,
   "metadata": {},
   "outputs": [],
   "source": [
    "list_html = requests.get(url=SHOP_URL, headers=headers).content\n",
    "list_lxml = BeautifulSoup(list_html, 'lxml', from_encoding='utf-8')"
   ]
  },
  {
   "cell_type": "code",
   "execution_count": 5,
   "metadata": {},
   "outputs": [],
   "source": [
    "url_list = [SHOP_URL+i.get('href') for i in list_lxml.select('div.box > div.prd-thumb > a')]\n",
    "img_list = ['http:'+i.get('src') for i in list_lxml.select('div.box > div.prd-thumb > a > img')]\n",
    "name_list = [i.find_all(text=True)[0] for i in list_lxml.select('li.prd-name')]"
   ]
  },
  {
   "cell_type": "code",
   "execution_count": 10,
   "metadata": {},
   "outputs": [
    {
     "data": {
      "text/plain": [
       "['http://www.previn.co.kr/shop/shopbrand.html?type=P&xcode=010&sort=&page=1/shop/shopdetail.html?branduid=280303&xcode=010&mcode=000&scode=&type=P&sort=order&cur_code=010&GfDT=bmt1W1w%3D',\n",
       " 'http://www.previn.co.kr/shop/shopbrand.html?type=P&xcode=010&sort=&page=1/shop/shopdetail.html?branduid=280304&xcode=010&mcode=000&scode=&type=P&sort=order&cur_code=010&GfDT=bWh3UA%3D%3D',\n",
       " 'http://www.previn.co.kr/shop/shopbrand.html?type=P&xcode=010&sort=&page=1/shop/shopdetail.html?branduid=280306&xcode=010&mcode=000&scode=&type=P&sort=order&cur_code=010&GfDT=aWt3Uw%3D%3D',\n",
       " 'http://www.previn.co.kr/shop/shopbrand.html?type=P&xcode=010&sort=&page=1/shop/shopdetail.html?branduid=280307&xcode=010&mcode=000&scode=&type=P&sort=order&cur_code=010&GfDT=bmZ3Ug%3D%3D',\n",
       " 'http://www.previn.co.kr/shop/shopbrand.html?type=P&xcode=010&sort=&page=1/shop/shopdetail.html?branduid=280268&xcode=010&mcode=000&scode=&type=P&sort=order&cur_code=010&GfDT=bm96W1g%3D',\n",
       " 'http://www.previn.co.kr/shop/shopbrand.html?type=P&xcode=010&sort=&page=1/shop/shopdetail.html?branduid=280274&xcode=010&mcode=000&scode=&type=P&sort=order&cur_code=010&GfDT=bml4W1k%3D',\n",
       " 'http://www.previn.co.kr/shop/shopbrand.html?type=P&xcode=010&sort=&page=1/shop/shopdetail.html?branduid=280279&xcode=010&mcode=000&scode=&type=P&sort=order&cur_code=010&GfDT=bm9%2BW1o%3D',\n",
       " 'http://www.previn.co.kr/shop/shopbrand.html?type=P&xcode=010&sort=&page=1/shop/shopdetail.html?branduid=280244&xcode=010&mcode=000&scode=&type=P&sort=order&cur_code=010&GfDT=bmx9W1s%3D',\n",
       " 'http://www.previn.co.kr/shop/shopbrand.html?type=P&xcode=010&sort=&page=1/shop/shopdetail.html?branduid=280202&xcode=010&mcode=000&scode=&type=P&sort=order&cur_code=010&GfDT=bWZ3WQ%3D%3D',\n",
       " 'http://www.previn.co.kr/shop/shopbrand.html?type=P&xcode=010&sort=&page=1/shop/shopdetail.html?branduid=280203&xcode=010&mcode=000&scode=&type=P&sort=order&cur_code=010&GfDT=bm58W1U%3D',\n",
       " 'http://www.previn.co.kr/shop/shopbrand.html?type=P&xcode=010&sort=&page=1/shop/shopdetail.html?branduid=280181&xcode=010&mcode=000&scode=&type=P&sort=order&cur_code=010&GfDT=Zml3UFw%3D',\n",
       " 'http://www.previn.co.kr/shop/shopbrand.html?type=P&xcode=010&sort=&page=1/shop/shopdetail.html?branduid=280184&xcode=010&mcode=000&scode=&type=P&sort=order&cur_code=010&GfDT=bm54W11F',\n",
       " 'http://www.previn.co.kr/shop/shopbrand.html?type=P&xcode=010&sort=&page=1/shop/shopdetail.html?branduid=280185&xcode=010&mcode=000&scode=&type=P&sort=order&cur_code=010&GfDT=bml6W11G',\n",
       " 'http://www.previn.co.kr/shop/shopbrand.html?type=P&xcode=010&sort=&page=1/shop/shopdetail.html?branduid=280187&xcode=010&mcode=000&scode=&type=P&sort=order&cur_code=010&GfDT=bm5%2FW11H',\n",
       " 'http://www.previn.co.kr/shop/shopbrand.html?type=P&xcode=010&sort=&page=1/shop/shopdetail.html?branduid=280189&xcode=010&mcode=000&scode=&type=P&sort=order&cur_code=010&GfDT=bmt%2BW11A',\n",
       " 'http://www.previn.co.kr/shop/shopbrand.html?type=P&xcode=010&sort=&page=1/shop/shopdetail.html?branduid=280191&xcode=010&mcode=000&scode=&type=P&sort=order&cur_code=010&GfDT=bmd3UFk%3D',\n",
       " 'http://www.previn.co.kr/shop/shopbrand.html?type=P&xcode=010&sort=&page=1/shop/shopdetail.html?branduid=280192&xcode=010&mcode=000&scode=&type=P&sort=order&cur_code=010&GfDT=bGd3UFo%3D',\n",
       " 'http://www.previn.co.kr/shop/shopbrand.html?type=P&xcode=010&sort=&page=1/shop/shopdetail.html?branduid=280193&xcode=010&mcode=000&scode=&type=P&sort=order&cur_code=010&GfDT=bm97W11D',\n",
       " 'http://www.previn.co.kr/shop/shopbrand.html?type=P&xcode=010&sort=&page=1/shop/shopdetail.html?branduid=280195&xcode=010&mcode=000&scode=&type=P&sort=order&cur_code=010&GfDT=bm16W11M',\n",
       " 'http://www.previn.co.kr/shop/shopbrand.html?type=P&xcode=010&sort=&page=1/shop/shopdetail.html?branduid=280196&xcode=010&mcode=000&scode=&type=P&sort=order&cur_code=010&GfDT=ZmV8WA%3D%3D',\n",
       " 'http://www.previn.co.kr/shop/shopbrand.html?type=P&xcode=010&sort=&page=1/shop/shopdetail.html?branduid=280197&xcode=010&mcode=000&scode=&type=P&sort=order&cur_code=010&GfDT=bmx%2BW15E',\n",
       " 'http://www.previn.co.kr/shop/shopbrand.html?type=P&xcode=010&sort=&page=1/shop/shopdetail.html?branduid=280199&xcode=010&mcode=000&scode=&type=P&sort=order&cur_code=010&GfDT=bWx3U10%3D',\n",
       " 'http://www.previn.co.kr/shop/shopbrand.html?type=P&xcode=010&sort=&page=1/shop/shopdetail.html?branduid=280201&xcode=010&mcode=000&scode=&type=P&sort=order&cur_code=010&GfDT=am53U14%3D',\n",
       " 'http://www.previn.co.kr/shop/shopbrand.html?type=P&xcode=010&sort=&page=1/shop/shopdetail.html?branduid=280270&xcode=010&mcode=000&scode=&type=P&sort=order&cur_code=010&GfDT=aGl3U18%3D',\n",
       " 'http://www.previn.co.kr/shop/shopbrand.html?type=P&xcode=010&sort=&page=1/shop/shopdetail.html?branduid=280272&xcode=010&mcode=000&scode=&type=P&sort=order&cur_code=010&GfDT=amZ3U1g%3D',\n",
       " 'http://www.previn.co.kr/shop/shopbrand.html?type=P&xcode=010&sort=&page=1/shop/shopdetail.html?branduid=280276&xcode=010&mcode=000&scode=&type=P&sort=order&cur_code=010&GfDT=bm1%2BW15B',\n",
       " 'http://www.previn.co.kr/shop/shopbrand.html?type=P&xcode=010&sort=&page=1/shop/shopdetail.html?branduid=280281&xcode=010&mcode=000&scode=&type=P&sort=order&cur_code=010&GfDT=amV%2FVw%3D%3D',\n",
       " 'http://www.previn.co.kr/shop/shopbrand.html?type=P&xcode=010&sort=&page=1/shop/shopdetail.html?branduid=280238&xcode=010&mcode=000&scode=&type=P&sort=order&cur_code=010&GfDT=bW13U1s%3D',\n",
       " 'http://www.previn.co.kr/shop/shopbrand.html?type=P&xcode=010&sort=&page=1/shop/shopdetail.html?branduid=280239&xcode=010&mcode=000&scode=&type=P&sort=order&cur_code=010&GfDT=bmh3U1Q%3D',\n",
       " 'http://www.previn.co.kr/shop/shopbrand.html?type=P&xcode=010&sort=&page=1/shop/shopdetail.html?branduid=280240&xcode=010&mcode=000&scode=&type=P&sort=order&cur_code=010&GfDT=aW13U1U%3D',\n",
       " 'http://www.previn.co.kr/shop/shopbrand.html?type=P&xcode=010&sort=&page=1/shop/shopdetail.html?branduid=280241&xcode=010&mcode=000&scode=&type=P&sort=order&cur_code=010&GfDT=bml8W19E',\n",
       " 'http://www.previn.co.kr/shop/shopbrand.html?type=P&xcode=010&sort=&page=1/shop/shopdetail.html?branduid=280242&xcode=010&mcode=000&scode=&type=P&sort=order&cur_code=010&GfDT=bml7W19F',\n",
       " 'http://www.previn.co.kr/shop/shopbrand.html?type=P&xcode=010&sort=&page=1/shop/shopdetail.html?branduid=280243&xcode=010&mcode=000&scode=&type=P&sort=order&cur_code=010&GfDT=Z2Z3Ul4%3D',\n",
       " 'http://www.previn.co.kr/shop/shopbrand.html?type=P&xcode=010&sort=&page=1/shop/shopdetail.html?branduid=280178&xcode=010&mcode=000&scode=&type=P&sort=order&cur_code=010&GfDT=amV%2BUg%3D%3D',\n",
       " 'http://www.previn.co.kr/shop/shopbrand.html?type=P&xcode=010&sort=&page=1/shop/shopdetail.html?branduid=280179&xcode=010&mcode=000&scode=&type=P&sort=order&cur_code=010&GfDT=bmx6W19A',\n",
       " 'http://www.previn.co.kr/shop/shopbrand.html?type=P&xcode=010&sort=&page=1/shop/shopdetail.html?branduid=280180&xcode=010&mcode=000&scode=&type=P&sort=order&cur_code=010&GfDT=bmt1W19B',\n",
       " 'http://www.previn.co.kr/shop/shopbrand.html?type=P&xcode=010&sort=&page=1/shop/shopdetail.html?branduid=280182&xcode=010&mcode=000&scode=&type=P&sort=order&cur_code=010&GfDT=bmh9W19C',\n",
       " 'http://www.previn.co.kr/shop/shopbrand.html?type=P&xcode=010&sort=&page=1/shop/shopdetail.html?branduid=280183&xcode=010&mcode=000&scode=&type=P&sort=order&cur_code=010&GfDT=aWh3Uls%3D',\n",
       " 'http://www.previn.co.kr/shop/shopbrand.html?type=P&xcode=010&sort=&page=1/shop/shopdetail.html?branduid=280186&xcode=010&mcode=000&scode=&type=P&sort=order&cur_code=010&GfDT=amd3UlQ%3D',\n",
       " 'http://www.previn.co.kr/shop/shopbrand.html?type=P&xcode=010&sort=&page=1/shop/shopdetail.html?branduid=280188&xcode=010&mcode=000&scode=&type=P&sort=order&cur_code=010&GfDT=bmp8W19N']"
      ]
     },
     "execution_count": 10,
     "metadata": {},
     "output_type": "execute_result"
    }
   ],
   "source": [
    "url_list"
   ]
  },
  {
   "cell_type": "code",
   "execution_count": 14,
   "metadata": {},
   "outputs": [
    {
     "name": "stdout",
     "output_type": "stream",
     "text": [
      "40\n",
      "40\n",
      "40\n"
     ]
    }
   ],
   "source": [
    "print(len(url_list))\n",
    "print(len(img_list))\n",
    "print(len(name_list))"
   ]
  },
  {
   "cell_type": "code",
   "execution_count": null,
   "metadata": {},
   "outputs": [],
   "source": []
  }
 ],
 "metadata": {
  "kernelspec": {
   "display_name": "Python 3",
   "language": "python",
   "name": "python3"
  },
  "language_info": {
   "codemirror_mode": {
    "name": "ipython",
    "version": 3
   },
   "file_extension": ".py",
   "mimetype": "text/x-python",
   "name": "python",
   "nbconvert_exporter": "python",
   "pygments_lexer": "ipython3",
   "version": "3.6.4"
  }
 },
 "nbformat": 4,
 "nbformat_minor": 2
}
