{
 "cells": [
  {
   "cell_type": "code",
   "execution_count": 1,
   "metadata": {},
   "outputs": [],
   "source": [
    "from bs4 import BeautifulSoup\n",
    "#import urllib.request             # HTTP Request and Response\n",
    "#from urllib.parse import quote    # UTF-8 to ASCII for URL\n",
    "from urllib.parse import urlparse, parse_qs # URL Parsing\n",
    "import requests\n",
    "import re\n",
    "import json"
   ]
  },
  {
   "cell_type": "code",
   "execution_count": 9,
   "metadata": {},
   "outputs": [],
   "source": [
    "#-*- coding: utf-8 -*-\n",
    "SHOP_URL = \"http://oddpeople.kr\""
   ]
  },
  {
   "cell_type": "code",
   "execution_count": 4,
   "metadata": {},
   "outputs": [],
   "source": [
    "headers = {'User-Agent': 'Mozilla/5.0 (Windows NT 10.0; Win64; x64) AppleWebKit/537.36 (KHTML, like Gecko) Chrome/71.0.3578.98 Safari/537.36'}"
   ]
  },
  {
   "cell_type": "code",
   "execution_count": 5,
   "metadata": {},
   "outputs": [],
   "source": [
    "list_html = requests.get(url=SHOP_URL, headers=headers).content\n",
    "list_lxml = BeautifulSoup(list_html, 'lxml', from_encoding='utf-8')"
   ]
  },
  {
   "cell_type": "code",
   "execution_count": 15,
   "metadata": {},
   "outputs": [],
   "source": [
    "url_list = [SHOP_URL+i.get('href') for i in list_lxml.select('div.thumbnail > div.prdImg > a')]\n",
    "img_list = ['http:'+i.get('src') for i in list_lxml.select('div.thumbnail > div.prdImg > a > img')]\n",
    "name_list = [i.find_all(text=True)[0] for i in list_lxml.select('div.description > strong > a > span')]\n",
    "for i, name in enumerate(name_list):\n",
    "    if name == '상품명':\n",
    "        del name_list[i]"
   ]
  },
  {
   "cell_type": "code",
   "execution_count": 16,
   "metadata": {},
   "outputs": [
    {
     "data": {
      "text/plain": [
       "['Engineered garments wool herringbone patten block fatigue pant',\n",
       " '45rpm one button knit vest',\n",
       " 'Mountain research x beams+ navy fisherman jacket',\n",
       " 'Beams white logo sweatshirt',\n",
       " 'Boglioli beige wool dover 3b jacket',\n",
       " 'Beauty & youth by united arrows tube double check set-up',\n",
       " 'United arrows wool double jacket',\n",
       " 'The suit company 3 piece check set-up',\n",
       " 'Universal language by the suit company wool double jacket',\n",
       " 'United arrows fiorio silk check tie',\n",
       " 'Kato` AAA x Harris tweed patch work tote bag',\n",
       " 'Rugged factory olive cotton & wool duffle coat',\n",
       " 'Imind beige hood field jacket',\n",
       " 'Beams F by beams x john comfort silk stripe tie',\n",
       " 'Sugarcane patchwork shirt',\n",
       " \"[Ladie's] Ciaopanic wool & cotton hood mountain parka\",\n",
       " \"The real mccoy's denim military hat\",\n",
       " 'Luigi borrelli stripe silk & cashmere tie',\n",
       " 'Brooks brothers navy silk dot tie',\n",
       " 'Beams + dark navy wool 2-tuck chino pant',\n",
       " 'Takeokikuchi black belted trench coat with liner',\n",
       " 'Ciaopanic traditional green wool hood duffle coat',\n",
       " 'Journal standard trisect harris tweed pure wool herringbone field shirt jacket',\n",
       " 'Edifice beige belt coat with liner',\n",
       " 'Journal standard grey bedale motif wool hood jacket with liner',\n",
       " \"[Ladie's] Fidelity charcoal quilting peacoat\",\n",
       " 'Beams plus x harris tweed pure wool blackwatch 3B jacket',\n",
       " \"[Ladie's] Buzz rickson navy 100% wool knit [ MADE IN JAPAN ]\",\n",
       " \"[Ladie's] Edifice navy stripe wool set-up\",\n",
       " 'Blackbarrett by Neil barret duffle coat with liner',\n",
       " 'beams plus olive m47 nylon parka',\n",
       " \"[Ladie's] Nano universe library charcoal cashmere&wool belt coat\",\n",
       " 'Danton charcoal round collar wool single jacket',\n",
       " \"Henry cotton's corduroy 3B jacket\",\n",
       " 'Sovereign by united arrows grey wool & cashmere 3B jacket',\n",
       " 'Blue label by United arrows tokyo black round collar duffle jacket',\n",
       " \"[Ladie's] Fidelity x Beauty & youth by united arrows wool duffle coat [ MADE IN U.S.A ]\",\n",
       " 'Beams plus beige m65 jacket',\n",
       " 'B:Ming life store by beams  x Abraham moon check wool 3B jacket',\n",
       " \"Henry cotton's detail pocket safari jacket\",\n",
       " 'Margaret howell navy dot cotton tie',\n",
       " 'Brunello cucinelli cashmere wool check tie',\n",
       " 'Brunello cucinelli cashmere stirpe tie',\n",
       " 'Engineered garments cotton check long muffler',\n",
       " 'Tomorrow land flannel check shirt',\n",
       " 'Mackintosh philosophy by mackintosh engineer field jacket with liner',\n",
       " 'battenwear navy trek pant',\n",
       " 'Gramicci x beams x star wars navy track pant',\n",
       " 'Takeokikuchi navy basic cotton cardigan',\n",
       " 'Newyoker hexagon patten 2B jacket',\n",
       " 'Pilgrim surf+supply  navy basic tote bag',\n",
       " 'Levis vintage clothing eco bag',\n",
       " 'Corona olive military fatigue pant [ MADE IN JAPAN ]',\n",
       " 'Monitaly olive field cargo pant [ MADE IN U.S.A ]',\n",
       " 'Urban research doors indigo cotton vest',\n",
       " '[Unisex] Journal standard shetland wool blanket vest',\n",
       " 'Pendleton ivory chimayo wool vest',\n",
       " 'Denim& Supply by ralph lauren indigo shawl collar cardigan',\n",
       " 'Beams 2-tone cardigan [ MADE IN JAPAN ]',\n",
       " 'Beams plus brown open collar check shirt [ MADE IN JAPAN ]',\n",
       " 'Engineered garments beige multi pocket corduroy straight pant [MADE IN U.S.A]',\n",
       " 'Global work dark green corduroy fatigue pant',\n",
       " 'R.newbold olive m65 cargo pant',\n",
       " 'MHL by Margaret howell  dark navy cargo pant',\n",
       " 'Urban research doors melange khaki carrier 2-tuck pant',\n",
       " 'Urban research beige v-neck cotton knit',\n",
       " 'Lavenham green quilting jacket [MADE IN ENGLAND]',\n",
       " 'Barbour dark green v-neck lambswool sports knit [MADE IN SCOTLAND]',\n",
       " '[UNISEX] Omnigod check hood anorak',\n",
       " 'Urban research beige 4-way coat with padding liner',\n",
       " 'The suit company x Abraham moon & sons navy pure wool check 3B jacket',\n",
       " 'Beams Lights Ultra brown 2-way zip check blouson',\n",
       " 'Engineered garments dark navy pure wool double jacket [MADE IN U.S.A ]',\n",
       " \"Henry cotton's neck patch wool jacket [MADE IN JAPAN]\",\n",
       " 'A.P.C dark green rain coat [MADE IN FRANCE]',\n",
       " 'Johnstons of elgin cashmere wool tatan check muffler [MADE IN SCOTLAND]',\n",
       " 'Johnstons of elgin cashmere red&green check muffler [MADE IN SCOTLAND]',\n",
       " 'Polo by Ralph Lauren black stripe wool muffler [MADE IN ITALY]',\n",
       " 'Sophnet gray double face stole [MADE IN JAPAN]',\n",
       " 'Royal rossi black cashmere muffler',\n",
       " 'Danton x beams wool hood down jacket',\n",
       " '[Unisex] Margaret howell wool pea coat',\n",
       " 'Takeo kikuchi shawl collar cardigan',\n",
       " 'Beams plus windstopper 3B jacket',\n",
       " 'Ts(s) wool glen check 2B jacket',\n",
       " 'Nano universe tatan check waxed jacket',\n",
       " 'Ts(s) wool safari jacket',\n",
       " 'Polo by Ralph Lauren Perkins Shearer check jacket',\n",
       " 'Beams plus m43 liner vest',\n",
       " 'Baracuta hooded field coat']"
      ]
     },
     "execution_count": 16,
     "metadata": {},
     "output_type": "execute_result"
    }
   ],
   "source": [
    "name_list"
   ]
  },
  {
   "cell_type": "code",
   "execution_count": 17,
   "metadata": {},
   "outputs": [
    {
     "name": "stdout",
     "output_type": "stream",
     "text": [
      "90\n",
      "90\n",
      "90\n"
     ]
    }
   ],
   "source": [
    "print(len(url_list))\n",
    "print(len(img_list))\n",
    "print(len(name_list))"
   ]
  },
  {
   "cell_type": "code",
   "execution_count": null,
   "metadata": {},
   "outputs": [],
   "source": []
  }
 ],
 "metadata": {
  "kernelspec": {
   "display_name": "Python 3",
   "language": "python",
   "name": "python3"
  },
  "language_info": {
   "codemirror_mode": {
    "name": "ipython",
    "version": 3
   },
   "file_extension": ".py",
   "mimetype": "text/x-python",
   "name": "python",
   "nbconvert_exporter": "python",
   "pygments_lexer": "ipython3",
   "version": "3.6.4"
  }
 },
 "nbformat": 4,
 "nbformat_minor": 2
}
