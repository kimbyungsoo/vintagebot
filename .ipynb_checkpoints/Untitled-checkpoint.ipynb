{
 "cells": [
  {
   "cell_type": "code",
   "execution_count": 58,
   "metadata": {},
   "outputs": [],
   "source": [
    "import win32gui, win32api, win32con, win32com.client\n",
    "import sys\n",
    "import time\n",
    "from importlib import reload"
   ]
  },
  {
   "cell_type": "code",
   "execution_count": 19,
   "metadata": {},
   "outputs": [],
   "source": [
    "if sys.version[0] == '2':\n",
    "    reload(sys)\n",
    "    sys.setdefaultencoding(\"utf-8\")"
   ]
  },
  {
   "cell_type": "code",
   "execution_count": 20,
   "metadata": {},
   "outputs": [],
   "source": [
    "def window_handle_Title(Title):\n",
    "    handle = win32gui.FindWindow(None, Title)\n",
    "    return handle"
   ]
  },
  {
   "cell_type": "code",
   "execution_count": 21,
   "metadata": {},
   "outputs": [],
   "source": [
    "def window_handle_class(className):\n",
    "    handle = win32gui.FindWindow(className, None)\n",
    "    return handle"
   ]
  },
  {
   "cell_type": "code",
   "execution_count": 134,
   "metadata": {},
   "outputs": [],
   "source": [
    "def mouse_click(x, y):\n",
    "    win32api.SetCursorPos((x, y))\n",
    "    win32api.mouse_event(win32con.MOUSEEVENTF_LEFTDOWN, x, y, 0, 0)\n",
    "    win32api.mouse_event(win32con.MOUSEEVENTF_LEFTUP, x, y, 0, 0)"
   ]
  },
  {
   "cell_type": "code",
   "execution_count": 22,
   "metadata": {},
   "outputs": [],
   "source": [
    "def click_btn(hWnd, Button):\n",
    "    hbutton = win32gui.FindWindowEx(hWnd, 0, 'Button', Button)\n",
    "    if hbutton != 0:\n",
    "        win32api.PostMessage(hbutton, win32con.WM_LBUTTONDOWN, 0, 0)\n",
    "        win32api.PostMessage(hbutton, win32con.WM_LBUTTONUP, 0, 0)\n",
    "        return True\n",
    "    return None"
   ]
  },
  {
   "cell_type": "code",
   "execution_count": 23,
   "metadata": {},
   "outputs": [],
   "source": [
    "def click_MouseLbtn(hWnd):\n",
    "    (left, top, right, bottom) = win32gui.GetWindowRect(hWnd)\n",
    "    win32api.SetCursorPos((left + (right - left) / 2, top + (bottom - top) / 2))\n",
    "    time.sleep(0.05)\n",
    "    win32api.mouse_event(win32con.MOUSEEVENTF_LEFTDOWN, 0, 0)\n",
    "    time.sleep(0.05)\n",
    "    win32api.mouse_event(win32con.MOUSEEVENTF_LEFTUP, 0, 0)\n",
    "    return True"
   ]
  },
  {
   "cell_type": "code",
   "execution_count": 24,
   "metadata": {},
   "outputs": [],
   "source": [
    "def get_id(hWnd):\n",
    "    id = win32gui.GetDlgItem(hWnd, 0x000003F6)\n",
    "    return id"
   ]
  },
  {
   "cell_type": "code",
   "execution_count": 25,
   "metadata": {},
   "outputs": [],
   "source": [
    "def get_pw(hWnd):\n",
    "    pw = win32gui.GetDlgItem(hWnd, 0x000003F9)\n",
    "    return pw"
   ]
  },
  {
   "cell_type": "code",
   "execution_count": 26,
   "metadata": {},
   "outputs": [],
   "source": [
    "def get_btn(hWnd):\n",
    "    btn = win32gui.GetDlgItem(hWnd, 0x000003FC)\n",
    "    return btn"
   ]
  },
  {
   "cell_type": "code",
   "execution_count": 27,
   "metadata": {},
   "outputs": [],
   "source": [
    "def send_input_hax(hwnd, msg):\n",
    "    for c in msg:\n",
    "        if c == \"\\n\":\n",
    "            win32api.SendMessage(hwnd, win32con.WM_KEYDOWN, win32con.VK_RETURN, 0)\n",
    "            win32api.SendMessage(hwnd, win32con.WM_KEYUP, win32con.VK_RETURN, 0)\n",
    "        else:\n",
    "            win32api.SendMessage(hwnd, win32con.WM_CHAR, ord(c), 0)\n",
    "    return None"
   ]
  },
  {
   "cell_type": "code",
   "execution_count": 53,
   "metadata": {},
   "outputs": [
    {
     "ename": "error",
     "evalue": "(0, 'SetForegroundWindow', 'No error message is available')",
     "output_type": "error",
     "traceback": [
      "\u001b[1;31m---------------------------------------------------------------------------\u001b[0m",
      "\u001b[1;31merror\u001b[0m                                     Traceback (most recent call last)",
      "\u001b[1;32m<ipython-input-53-ed2fd232c3e5>\u001b[0m in \u001b[0;36m<module>\u001b[1;34m()\u001b[0m\n\u001b[0;32m      1\u001b[0m \u001b[0mhWnd\u001b[0m \u001b[1;33m=\u001b[0m \u001b[0mwindow_handle_Title\u001b[0m\u001b[1;33m(\u001b[0m\u001b[1;34m'테스트'\u001b[0m\u001b[1;33m)\u001b[0m\u001b[1;33m\u001b[0m\u001b[0m\n\u001b[1;32m----> 2\u001b[1;33m \u001b[0mwin32gui\u001b[0m\u001b[1;33m.\u001b[0m\u001b[0mSetForegroundWindow\u001b[0m\u001b[1;33m(\u001b[0m\u001b[0mhWnd\u001b[0m\u001b[1;33m)\u001b[0m\u001b[1;33m\u001b[0m\u001b[0m\n\u001b[0m",
      "\u001b[1;31merror\u001b[0m: (0, 'SetForegroundWindow', 'No error message is available')"
     ]
    }
   ],
   "source": [
    "hWnd = window_handle_Title('테스트')\n",
    "win32gui.SetForegroundWindow(hWnd)"
   ]
  },
  {
   "cell_type": "code",
   "execution_count": 135,
   "metadata": {},
   "outputs": [],
   "source": [
    "hWnd = window_handle_Title('테스트')\n",
    "win32gui.SetForegroundWindow(hWnd)\n",
    "shell = win32com.client.Dispatch(\"WScript.Shell\")\n",
    "shell.SendKeys('%')\n",
    "win32gui.SetForegroundWindow(hWnd)\n",
    "\n",
    "time.sleep(0.05)\n",
    "win32api.SetCursorPos((905,512))\n",
    "mouse_click(905,512)\n",
    "#time.sleep(0.05)\n",
    "#id = get_id(hWnd)\n",
    "#click_MouseLbtn(id)"
   ]
  },
  {
   "cell_type": "code",
   "execution_count": 83,
   "metadata": {},
   "outputs": [
    {
     "ename": "error",
     "evalue": "(0, 'GetTextMetrics', 'No error message is available')",
     "output_type": "error",
     "traceback": [
      "\u001b[1;31m---------------------------------------------------------------------------\u001b[0m",
      "\u001b[1;31merror\u001b[0m                                     Traceback (most recent call last)",
      "\u001b[1;32m<ipython-input-83-e174e984620d>\u001b[0m in \u001b[0;36m<module>\u001b[1;34m()\u001b[0m\n\u001b[1;32m----> 1\u001b[1;33m \u001b[0mwin32gui\u001b[0m\u001b[1;33m.\u001b[0m\u001b[0mGetTextMetrics\u001b[0m\u001b[1;33m(\u001b[0m\u001b[0mhWnd\u001b[0m\u001b[1;33m)\u001b[0m\u001b[1;33m\u001b[0m\u001b[0m\n\u001b[0m",
      "\u001b[1;31merror\u001b[0m: (0, 'GetTextMetrics', 'No error message is available')"
     ]
    }
   ],
   "source": [
    "win32gui.GetTextMetrics(hWnd)"
   ]
  },
  {
   "cell_type": "code",
   "execution_count": null,
   "metadata": {},
   "outputs": [],
   "source": []
  }
 ],
 "metadata": {
  "kernelspec": {
   "display_name": "Python 3",
   "language": "python",
   "name": "python3"
  },
  "language_info": {
   "codemirror_mode": {
    "name": "ipython",
    "version": 3
   },
   "file_extension": ".py",
   "mimetype": "text/x-python",
   "name": "python",
   "nbconvert_exporter": "python",
   "pygments_lexer": "ipython3",
   "version": "3.6.4"
  }
 },
 "nbformat": 4,
 "nbformat_minor": 2
}
