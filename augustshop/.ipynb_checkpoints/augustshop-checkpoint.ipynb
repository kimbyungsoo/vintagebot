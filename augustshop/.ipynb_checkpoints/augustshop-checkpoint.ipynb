{
 "cells": [
  {
   "cell_type": "code",
   "execution_count": 1,
   "metadata": {},
   "outputs": [],
   "source": [
    "from bs4 import BeautifulSoup\n",
    "#import urllib.request             # HTTP Request and Response\n",
    "#from urllib.parse import quote    # UTF-8 to ASCII for URL\n",
    "from urllib.parse import urlparse, parse_qs # URL Parsing\n",
    "import requests\n",
    "import re\n",
    "import json"
   ]
  },
  {
   "cell_type": "code",
   "execution_count": 2,
   "metadata": {},
   "outputs": [],
   "source": [
    "#-*- coding: utf-8 -*-\n",
    "SHOP_URL = \"http://august-shop.kr/product/list.html?cate_no=48\""
   ]
  },
  {
   "cell_type": "code",
   "execution_count": 3,
   "metadata": {},
   "outputs": [],
   "source": [
    "headers = {'User-Agent': 'Mozilla/5.0 (Windows NT 10.0; Win64; x64) AppleWebKit/537.36 (KHTML, like Gecko) Chrome/71.0.3578.98 Safari/537.36'}"
   ]
  },
  {
   "cell_type": "code",
   "execution_count": 4,
   "metadata": {},
   "outputs": [],
   "source": [
    "list_html = requests.get(url=SHOP_URL, headers=headers).content\n",
    "list_lxml = BeautifulSoup(list_html, 'lxml', from_encoding='utf-8')"
   ]
  },
  {
   "cell_type": "code",
   "execution_count": 16,
   "metadata": {},
   "outputs": [],
   "source": [
    "url_list = [SHOP_URL+i.get('href') for i in list_lxml.select('div.thumbnail > a')]\n",
    "img_list = ['http:'+i.get('src') for i in list_lxml.select('div.thumbnail > a > img')]\n",
    "name_list = [i.find_all(text=True)[0] for i in list_lxml.select('div.description > ul.name > li > a > span')]"
   ]
  },
  {
   "cell_type": "code",
   "execution_count": 17,
   "metadata": {},
   "outputs": [
    {
     "data": {
      "text/plain": [
       "['적립금 이벤트',\n",
       " '적립금 이벤트',\n",
       " 'Coen by c.mountaineering',\n",
       " 'UNITED ARROWS green label relaxing',\n",
       " 'Schott',\n",
       " 'Penfield',\n",
       " 'BACK NUMBER',\n",
       " 'FILA',\n",
       " 'UNITED ARROWS green label relaxing',\n",
       " \"mont-bell [Ladie's]\",\n",
       " \"or slow [Ladie's]\",\n",
       " \"D'URBAN\",\n",
       " 'Polo by Ralph Lauren',\n",
       " 'Ermenegildo Zegna',\n",
       " 'Christian Dior',\n",
       " 'ISSEY MIYAKE',\n",
       " 'Ralph Lauren',\n",
       " 'Kics Document',\n",
       " 'BLUE BLUE x Harley Of Scotland',\n",
       " 'SPELLBOUND',\n",
       " 'gim',\n",
       " 'CIAOPANIC',\n",
       " 'UNIQLO',\n",
       " 'JOURNAL STANDARD']"
      ]
     },
     "execution_count": 17,
     "metadata": {},
     "output_type": "execute_result"
    }
   ],
   "source": [
    "name_list"
   ]
  },
  {
   "cell_type": "code",
   "execution_count": null,
   "metadata": {},
   "outputs": [],
   "source": []
  }
 ],
 "metadata": {
  "kernelspec": {
   "display_name": "Python 3",
   "language": "python",
   "name": "python3"
  },
  "language_info": {
   "codemirror_mode": {
    "name": "ipython",
    "version": 3
   },
   "file_extension": ".py",
   "mimetype": "text/x-python",
   "name": "python",
   "nbconvert_exporter": "python",
   "pygments_lexer": "ipython3",
   "version": "3.6.4"
  }
 },
 "nbformat": 4,
 "nbformat_minor": 2
}
