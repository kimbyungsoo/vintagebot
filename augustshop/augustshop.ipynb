{
 "cells": [
  {
   "cell_type": "code",
   "execution_count": 2,
   "metadata": {
    "collapsed": true
   },
   "outputs": [],
   "source": [
    "from bs4 import BeautifulSoup\n",
    "#import urllib.request             # HTTP Request and Response\n",
    "#from urllib.parse import quote    # UTF-8 to ASCII for URL\n",
    "from urllib.parse import urlparse, parse_qs # URL Parsing\n",
    "import requests\n",
    "import re\n",
    "import json"
   ]
  },
  {
   "cell_type": "code",
   "execution_count": 21,
   "metadata": {
    "collapsed": true
   },
   "outputs": [],
   "source": [
    "#-*- coding: utf-8 -*-\n",
    "SHOP_URL = \"http://august-shop.kr/product/list.html\"\n",
    "headers = {'User-Agent': 'Mozilla/5.0 (Windows NT 10.0; Win64; x64) AppleWebKit/537.36 (KHTML, like Gecko) Chrome/71.0.3578.98 Safari/537.36'}\n",
    "goods = []"
   ]
  },
  {
   "cell_type": "code",
   "execution_count": 23,
   "metadata": {},
   "outputs": [],
   "source": [
    "next_url = \"?cate_no=48&page=1\"\n",
    "while(True):\n",
    "    list_html = requests.get(url=SHOP_URL+next_url, headers=headers).content\n",
    "    list_lxml = BeautifulSoup(list_html, 'lxml', from_encoding='utf-8')\n",
    "    url_list = [SHOP_URL+i.get('href') for i in list_lxml.select('div.thumbnail > a')]\n",
    "    img_list = ['http:'+i.get('src') for i in list_lxml.select('div.thumbnail > a > img')]\n",
    "    name_list = [i.find_all(text=True)[0] for i in list_lxml.select('div.description > ul.name > li > a > span')]\n",
    "    for i in range(len(url_list)):\n",
    "        goods.append({'url' : url_list[i], 'img' : img_list[i], 'name' : name_list[i]})\n",
    "    next_url = list_lxml.select('#contents > div.xans-element-.xans-product.xans-product-normalpaging.ec-base-paginate-text > a')[1].get('href')\n",
    "    if(next_url == '#none'):\n",
    "        break;"
   ]
  },
  {
   "cell_type": "code",
   "execution_count": 24,
   "metadata": {
    "collapsed": true
   },
   "outputs": [],
   "source": [
    "import sqlite3 as lite\n",
    "import time\n",
    "\n",
    "database_filename = 'augustshop.db'\n",
    "conn = lite.connect(database_filename)\n",
    "cs = conn.cursor()"
   ]
  },
  {
   "cell_type": "code",
   "execution_count": null,
   "metadata": {
    "collapsed": true
   },
   "outputs": [],
   "source": []
  }
 ],
 "metadata": {
  "kernelspec": {
   "display_name": "Python 3",
   "language": "python",
   "name": "python3"
  },
  "language_info": {
   "codemirror_mode": {
    "name": "ipython",
    "version": 3
   },
   "file_extension": ".py",
   "mimetype": "text/x-python",
   "name": "python",
   "nbconvert_exporter": "python",
   "pygments_lexer": "ipython3",
   "version": "3.6.3"
  }
 },
 "nbformat": 4,
 "nbformat_minor": 2
}
