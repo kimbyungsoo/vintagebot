{
 "cells": [
  {
   "cell_type": "code",
   "execution_count": 1,
   "metadata": {
    "collapsed": true
   },
   "outputs": [],
   "source": [
    "from bs4 import BeautifulSoup\n",
    "#import urllib.request             # HTTP Request and Response\n",
    "#from urllib.parse import quote    # UTF-8 to ASCII for URL\n",
    "from urllib.parse import urlparse, parse_qs # URL Parsing\n",
    "import requests\n",
    "import re\n",
    "import json"
   ]
  },
  {
   "cell_type": "code",
   "execution_count": 2,
   "metadata": {
    "collapsed": true
   },
   "outputs": [],
   "source": [
    "#-*- coding: utf-8 -*-\n",
    "SHOP_URL = \"http://stay-free.co.kr/product/list.html\"\n",
    "headers = {'User-Agent': 'Mozilla/5.0 (Windows NT 10.0; Win64; x64) AppleWebKit/537.36 (KHTML, like Gecko) Chrome/71.0.3578.98 Safari/537.36'}\n",
    "goods = []"
   ]
  },
  {
   "cell_type": "code",
   "execution_count": 9,
   "metadata": {},
   "outputs": [],
   "source": [
    "next_url = \"?cate_no=224&page=1\"\n",
    "while(True):\n",
    "    list_html = requests.get(url=SHOP_URL+next_url, headers=headers).content\n",
    "    list_lxml = BeautifulSoup(list_html, 'lxml', from_encoding='utf-8')\n",
    "    url_list = [SHOP_URL+i.get('href') for i in list_lxml.select('div.box > p.name > a')]\n",
    "    img_list = ['http:'+i.get('src') for i in list_lxml.select('img.thumb')]\n",
    "    name_list = [i.find_all(text=True)[0] for i in list_lxml.select('div.box > p.name > a > span')]\n",
    "    for i in range(len(url_list)):\n",
    "        goods.append({'url' : url_list[i], 'img' : img_list[i], 'name' : name_list[i]})\n",
    "    next_url = list_lxml.select('#contents > div.xans-element-.xans-product.xans-product-normalpaging.ec-base-paginate > a')[2].get('href')\n",
    "    if(next_url == '#none'):\n",
    "        break;"
   ]
  },
  {
   "cell_type": "code",
   "execution_count": 10,
   "metadata": {},
   "outputs": [
    {
     "data": {
      "text/plain": [
       "['GRL MA-1 jacket',\n",
       " 'PARADIS TERRE cape',\n",
       " 'NIKO AND... padding vest',\n",
       " 'MIDIUMI SOLID fleece lining long cardigan',\n",
       " \"N'OR sweat long cardigan\"]"
      ]
     },
     "execution_count": 10,
     "metadata": {},
     "output_type": "execute_result"
    }
   ],
   "source": [
    "name_list"
   ]
  },
  {
   "cell_type": "code",
   "execution_count": 11,
   "metadata": {},
   "outputs": [
    {
     "data": {
      "text/plain": [
       "['http://stay-free.co.kr/web/product/medium/vulture85_43662.jpg',\n",
       " 'http://stay-free.co.kr/web/product/medium/vulture85_43658.jpg',\n",
       " 'http://stay-free.co.kr/web/product/medium/vulture85_43657.jpg',\n",
       " 'http://stay-free.co.kr/web/product/medium/vulture85_43654.jpg',\n",
       " 'http://stay-free.co.kr/web/product/medium/vulture85_43652.jpg']"
      ]
     },
     "execution_count": 11,
     "metadata": {},
     "output_type": "execute_result"
    }
   ],
   "source": [
    "img_list"
   ]
  },
  {
   "cell_type": "code",
   "execution_count": 12,
   "metadata": {},
   "outputs": [
    {
     "data": {
      "text/plain": [
       "['http://stay-free.co.kr/product/list.html/product/detail.html?product_no=43662&cate_no=224&display_group=1',\n",
       " 'http://stay-free.co.kr/product/list.html/product/detail.html?product_no=43658&cate_no=224&display_group=1',\n",
       " 'http://stay-free.co.kr/product/list.html/product/detail.html?product_no=43657&cate_no=224&display_group=1',\n",
       " 'http://stay-free.co.kr/product/list.html/product/detail.html?product_no=43654&cate_no=224&display_group=1',\n",
       " 'http://stay-free.co.kr/product/list.html/product/detail.html?product_no=43652&cate_no=224&display_group=1']"
      ]
     },
     "execution_count": 12,
     "metadata": {},
     "output_type": "execute_result"
    }
   ],
   "source": [
    "url_list"
   ]
  },
  {
   "cell_type": "code",
   "execution_count": 13,
   "metadata": {
    "collapsed": true
   },
   "outputs": [],
   "source": [
    "import sqlite3 as lite\n",
    "import time\n",
    "\n",
    "database_filename = 'stayfree.db'\n",
    "conn = lite.connect(database_filename)\n",
    "cs = conn.cursor()"
   ]
  },
  {
   "cell_type": "code",
   "execution_count": null,
   "metadata": {
    "collapsed": true
   },
   "outputs": [],
   "source": []
  }
 ],
 "metadata": {
  "kernelspec": {
   "display_name": "Python 3",
   "language": "python",
   "name": "python3"
  },
  "language_info": {
   "codemirror_mode": {
    "name": "ipython",
    "version": 3
   },
   "file_extension": ".py",
   "mimetype": "text/x-python",
   "name": "python",
   "nbconvert_exporter": "python",
   "pygments_lexer": "ipython3",
   "version": "3.6.3"
  }
 },
 "nbformat": 4,
 "nbformat_minor": 2
}
